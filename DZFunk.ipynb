{
 "cells": [
  {
   "cell_type": "code",
   "execution_count": 8,
   "metadata": {},
   "outputs": [
    {
     "name": "stdout",
     "output_type": "stream",
     "text": [
      "{'1': ['2207 876234', '11-2'], '2': ['10006'], '3': []}\n"
     ]
    }
   ],
   "source": [
    "documents = [\n",
    " {'type': 'passport', 'number': '2207 876234', 'name': 'Василий Гупкин'},\n",
    " {'type': 'invoice', 'number': '11-2', 'name': 'Геннадий Покемонов'},\n",
    " {'type': 'insurance', 'number': '10006', 'name': 'Аристарх Павлов'}\n",
    "]\n",
    "directories = {\n",
    " '1': ['2207 876234', '11-2'],\n",
    " '2': ['10006'],\n",
    " '3': []\n",
    "}\n",
    "print(directories)"
   ]
  },
  {
   "cell_type": "code",
   "execution_count": 9,
   "metadata": {},
   "outputs": [
    {
     "name": "stdout",
     "output_type": "stream",
     "text": [
      "Введите команду:p\n",
      "Введите номер документа:11-2\n"
     ]
    },
    {
     "data": {
      "text/plain": [
       "'Геннадий Покемонов'"
      ]
     },
     "execution_count": 9,
     "metadata": {},
     "output_type": "execute_result"
    }
   ],
   "source": [
    "#Пункт 1. Пользователь по команде \"p\" может узнать владельца документа по его номеру\n",
    "\n",
    "command = input(\"Введите команду:\")\n",
    "num = input(\"Введите номер документа:\")\n",
    "def p():\n",
    "    \n",
    "    \"\"\" Пользователь по команде \"p\" может узнать владельца документа по его номеру\"\"\"\n",
    "   \n",
    "    \n",
    "    for doc in documents:\n",
    "        if doc['number'] == num:\n",
    "            return(doc['name'])\n",
    "    if doc['number'] != num:\n",
    "            return('Документ не найден в базе')\n",
    "p()"
   ]
  },
  {
   "cell_type": "code",
   "execution_count": 11,
   "metadata": {},
   "outputs": [
    {
     "name": "stdout",
     "output_type": "stream",
     "text": [
      "Введите команду:s\n",
      "Введите номер документа:11-2\n"
     ]
    },
    {
     "data": {
      "text/plain": [
       "'Документ хранится на полке:1'"
      ]
     },
     "execution_count": 11,
     "metadata": {},
     "output_type": "execute_result"
    }
   ],
   "source": [
    "#Пункт 2. Пользователь по команде \"s\" может по номеру документа узнать на какой полке он хранится\n",
    "\n",
    "command = input(\"Введите команду:\")\n",
    "num = input(\"Введите номер документа:\")\n",
    "if command == 'p':\n",
    "    print(p())\n",
    "elif command == 's':\n",
    "    def s():\n",
    "        for k in directories:\n",
    "            if num in directories[k]:\n",
    "                return ('Документ хранится на полке:'+ k)\n",
    "        return('Документ не найден в базе')\n",
    "s()"
   ]
  },
  {
   "cell_type": "code",
   "execution_count": 33,
   "metadata": {},
   "outputs": [
    {
     "name": "stdout",
     "output_type": "stream",
     "text": [
      "Введите команду:l\n",
      "№: 2207 876234, тип: passport, владелец: Василий Гупкин, полка хранеия: Документ хранится на полке:1\n",
      "№: 11-2, тип: invoice, владелец: Геннадий Покемонов, полка хранеия: Документ хранится на полке:1\n",
      "№: 10006, тип: insurance, владелец: Аристарх Павлов, полка хранеия: Документ хранится на полке:1\n"
     ]
    }
   ],
   "source": [
    "#Пункт 3. Пользователь по команде \"l\" может увидеть полную информацию по всем документам\n",
    "\n",
    "command = input(\"Введите команду:\")\n",
    "def l():\n",
    "    for x in documents:\n",
    "        types = x['type']\n",
    "        number = x['number']\n",
    "        name = x['name']\n",
    "        print(f'№: {number}, тип: {types}, владелец: {name}, полка хранеия: {s()}')\n",
    "l()\n",
    "#№: 2207 876234, тип: passport, владелец: Василий Гупкин, полка хранения: 1"
   ]
  },
  {
   "cell_type": "code",
   "execution_count": null,
   "metadata": {},
   "outputs": [],
   "source": [
    "#Пункт 4. Пользователь по команде \"ads\" может добавить новую полку\n",
    "\n",
    "command = input(\"Введите команду:\")\n",
    "shelf = input(\"Введите номер полки: \")\n",
    "def ads():\n",
    "    for direct in directories.items():\n",
    "        if shelf in direct[0]:\n",
    "            return(f\"Такая полка уже существует. Текущий перечень полок: {list(directories.keys())}\")\n",
    "            break\n",
    "    else:\n",
    "        directories[shelf] = []\n",
    "        return(f\"Полка добавлена. Текущий перечень полок: {list(directories.keys())}\")\n",
    "ads()"
   ]
  },
  {
   "cell_type": "code",
   "execution_count": null,
   "metadata": {},
   "outputs": [],
   "source": [
    "#Пункт 5. Пользователь по команде \"ds\" может удалить существующую полку из данных (только если она пустая)\n",
    "\n",
    "command = input(\"Введите команду:\")\n",
    "shelf = input(\"Введите номер полки: \")\n",
    "def ds():\n",
    "    for k,v in directories.items():\n",
    "        if v is None:\n",
    "            del directories[shelf]\n",
    "            return(f\"Полка удалена.Текущий перечень полок: {list(directories.keys())}\")\n",
    "        elif v is not None:\n",
    "            return(f\"На полке есть документ, удалите их перед удалением полки.Текущий перечень полок: {list(directories.keys())}\")\n",
    "\n",
    "ds()"
   ]
  }
 ],
 "metadata": {
  "kernelspec": {
   "display_name": "Python 3",
   "language": "python",
   "name": "python3"
  },
  "language_info": {
   "codemirror_mode": {
    "name": "ipython",
    "version": 3
   },
   "file_extension": ".py",
   "mimetype": "text/x-python",
   "name": "python",
   "nbconvert_exporter": "python",
   "pygments_lexer": "ipython3",
   "version": "3.8.5"
  }
 },
 "nbformat": 4,
 "nbformat_minor": 4
}

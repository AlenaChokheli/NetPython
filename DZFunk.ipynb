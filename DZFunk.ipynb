{
 "cells": [
  {
   "cell_type": "code",
   "execution_count": 102,
   "metadata": {},
   "outputs": [
    {
     "name": "stdout",
     "output_type": "stream",
     "text": [
      "{'1': ['2207 876234', '11-2'], '2': ['10006'], '3': []}\n"
     ]
    }
   ],
   "source": [
    "documents = [\n",
    " {'type': 'passport', 'number': '2207 876234', 'name': 'Василий Гупкин'},\n",
    " {'type': 'invoice', 'number': '11-2', 'name': 'Геннадий Покемонов'},\n",
    " {'type': 'insurance', 'number': '10006', 'name': 'Аристарх Павлов'}\n",
    "]\n",
    "directories = {\n",
    " '1': ['2207 876234', '11-2'],\n",
    " '2': ['10006'],\n",
    " '3': []\n",
    "}\n",
    "print(directories)"
   ]
  },
  {
   "cell_type": "code",
   "execution_count": 110,
   "metadata": {},
   "outputs": [
    {
     "name": "stdout",
     "output_type": "stream",
     "text": [
      "Введите команду:p\n",
      "Введите номер документа:10006\n"
     ]
    },
    {
     "data": {
      "text/plain": [
       "'Аристарх Павлов'"
      ]
     },
     "execution_count": 110,
     "metadata": {},
     "output_type": "execute_result"
    }
   ],
   "source": [
    "#Пункт 1. \n",
    "\n",
    "command = input(\"Введите команду:\")\n",
    "\n",
    "def owner():\n",
    "    \n",
    "    \"\"\" Пользователь по команде \"p\" может узнать владельца документа по его номеру\"\"\"\n",
    "   \n",
    "    num = input(\"Введите номер документа:\")\n",
    "    for doc in documents:\n",
    "        if doc['number'] == num:\n",
    "            return(doc['name'])\n",
    "    if doc['number'] != num:\n",
    "            return('Документ не найден в базе')\n",
    "owner()"
   ]
  },
  {
   "cell_type": "code",
   "execution_count": 111,
   "metadata": {},
   "outputs": [
    {
     "name": "stdout",
     "output_type": "stream",
     "text": [
      "Введите команду:s\n",
      "Введите номер документа:11-2\n"
     ]
    },
    {
     "data": {
      "text/plain": [
       "'Документ хранится на полке:1'"
      ]
     },
     "execution_count": 111,
     "metadata": {},
     "output_type": "execute_result"
    }
   ],
   "source": [
    "#Пункт 2. \n",
    "\n",
    "command = input(\"Введите команду:\")\n",
    "\n",
    "def shel():\n",
    "    \n",
    "    \"\"\" Пользователь по команде \"s\" может по номеру документа узнать на какой полке он хранится \"\"\"\n",
    "    \n",
    "    num = input(\"Введите номер документа:\")\n",
    "    for k in directories:\n",
    "        if num in directories[k]:\n",
    "            return ('Документ хранится на полке:'+ k)\n",
    "        return('Документ не найден в базе')\n",
    "shel()"
   ]
  },
  {
   "cell_type": "code",
   "execution_count": 105,
   "metadata": {},
   "outputs": [
    {
     "name": "stdout",
     "output_type": "stream",
     "text": [
      "Введите команду:l\n",
      "№: 2207 876234, тип: passport, владелец: Василий Гупкин, полка 1\n",
      "№: 11-2, тип: invoice, владелец: Геннадий Покемонов, полка 1\n",
      "№: 10006, тип: insurance, владелец: Аристарх Павлов, полка 2\n"
     ]
    }
   ],
   "source": [
    "#Пункт 3. \n",
    "\n",
    "command = input(\"Введите команду:\")\n",
    "def all_information():\n",
    "    \n",
    "    \"\"\" Пользователь по команде \"l\" может увидеть полную информацию по всем документам \"\"\"\n",
    "    \n",
    "    for x in documents:\n",
    "        type_ = x['type']\n",
    "        number = x['number']\n",
    "        name = x['name']\n",
    "        for key in directories:\n",
    "            if number in directories[key]:\n",
    "                print('№: {1}, тип: {0}, владелец: {2}, полка {key}'.format(type_, number, name, key=key))\n",
    "\n",
    "all_information()"
   ]
  },
  {
   "cell_type": "code",
   "execution_count": 113,
   "metadata": {},
   "outputs": [
    {
     "name": "stdout",
     "output_type": "stream",
     "text": [
      "Введите команду:ads\n",
      "Введите номер полки: 10\n"
     ]
    },
    {
     "data": {
      "text/plain": [
       "\"Такая полка уже существует. Текущий перечень полок: ['1', '2', '3', '10']\""
      ]
     },
     "execution_count": 113,
     "metadata": {},
     "output_type": "execute_result"
    }
   ],
   "source": [
    "#Пункт 4. \n",
    "\n",
    "command = input(\"Введите команду:\")\n",
    "\n",
    "def add_shelf():\n",
    "    \n",
    "    \"\"\" Пользователь по команде \"ads\" может добавить новую полку \"\"\"\n",
    "    \n",
    "    shelf = input(\"Введите номер полки: \")\n",
    "    for direct in directories.items():\n",
    "        if shelf in direct[0]:\n",
    "            return(f\"Такая полка уже существует. Текущий перечень полок: {list(directories.keys())}\")\n",
    "            break\n",
    "    else:\n",
    "        directories[shelf] = []\n",
    "        return(f\"Полка добавлена. Текущий перечень полок: {list(directories.keys())}\")\n",
    "add_shelf()"
   ]
  },
  {
   "cell_type": "code",
   "execution_count": 118,
   "metadata": {},
   "outputs": [
    {
     "name": "stdout",
     "output_type": "stream",
     "text": [
      "Введите команду:ds\n",
      "Введите номер полки: 10\n",
      "Полка 10 удалена\n"
     ]
    }
   ],
   "source": [
    "#Пункт 5. \n",
    "\n",
    "command = input(\"Введите команду:\")\n",
    "\n",
    "def delete_shelf():\n",
    "    \n",
    "    \"\"\" Пользователь по команде \"ds\" может удалить существующую полку из данных (только если она пустая) \"\"\"\n",
    "    \n",
    "    shelf = input(\"Введите номер полки: \")\n",
    "    if shelf in directories.keys():\n",
    "        number_folder = directories[shelf]\n",
    "        if number_folder:\n",
    "            print(f'На полке {shelf} есть документы')\n",
    "        else:\n",
    "            del directories[shelf]\n",
    "            print(f'Полка {shelf} удалена')\n",
    "    else:\n",
    "        print(f'Полки {shelf} не существует')\n",
    "delete_shelf()"
   ]
  },
  {
   "cell_type": "code",
   "execution_count": 119,
   "metadata": {},
   "outputs": [
    {
     "name": "stdout",
     "output_type": "stream",
     "text": [
      "Введите команду:p\n",
      "Введите номер документа:10006\n",
      "Аристарх Павлов\n",
      "Введите команду:s\n",
      "Введите номер документа:2207 876234\n",
      "Документ хранится на полке:1\n",
      "Введите команду:l\n",
      "№: 2207 876234, тип: passport, владелец: Василий Гупкин, полка 1\n",
      "№: 11-2, тип: invoice, владелец: Геннадий Покемонов, полка 1\n",
      "№: 10006, тип: insurance, владелец: Аристарх Павлов, полка 2\n",
      "None\n",
      "Введите команду:ads\n",
      "Введите номер полки: 10\n",
      "Полка добавлена. Текущий перечень полок: ['1', '2', '3', '10']\n",
      "Введите команду:ds\n",
      "Введите номер полки: 10\n",
      "Полка 10 удалена\n",
      "None\n",
      "Введите команду:q\n"
     ]
    }
   ],
   "source": [
    "def main():\n",
    "    while True:\n",
    "        command = input(\"Введите команду:\")\n",
    "        if command == 'p':\n",
    "            print(owner())\n",
    "        elif command == 's':\n",
    "            print(shel())\n",
    "        elif command == 'l':\n",
    "            print(all_information())\n",
    "        elif command == 'ads':    \n",
    "            print(add_shelf())\n",
    "        elif command == 'ds':\n",
    "            print(delete_shelf())\n",
    "        elif command == 'q':\n",
    "            break\n",
    "main()\n",
    " \n"
   ]
  },
  {
   "cell_type": "code",
   "execution_count": null,
   "metadata": {},
   "outputs": [],
   "source": []
  },
  {
   "cell_type": "code",
   "execution_count": null,
   "metadata": {},
   "outputs": [],
   "source": []
  }
 ],
 "metadata": {
  "kernelspec": {
   "display_name": "Python 3",
   "language": "python",
   "name": "python3"
  }
 },
 "nbformat": 4,
 "nbformat_minor": 4
}

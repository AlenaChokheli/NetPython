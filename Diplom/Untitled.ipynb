{
 "cells": [
  {
   "cell_type": "markdown",
   "metadata": {},
   "source": [
    "# Credit Card Approval Prediction #"
   ]
  },
  {
   "cell_type": "markdown",
   "metadata": {},
   "source": [
    "### Context ###\n",
    "\n",
    "Credit score cards are a common risk control method in the financial industry. It uses personal information and data submitted by credit card applicants to predict the probability of future defaults and credit card borrowings. The bank is able to decide whether to issue a credit card to the applicant. Credit scores can objectively quantify the magnitude of risk.\n",
    " \n",
    "Generally speaking, credit score cards are based on historical data. Once encountering large economic fluctuations. Past models may lose their original predictive power. Logistic model is a common method for credit scoring. Because Logistic is suitable for binary classification tasks and can calculate the coefficients of each feature. In order to facilitate understanding and operation, the score card will multiply the logistic regression coefficient by a certain value (such as 100) and round it.\n",
    " \n",
    "At present, with the development of machine learning algorithms. More predictive methods such as Boosting, Random Forest, and Support Vector Machines have been introduced into credit card scoring. However, these methods often do not have good transparency. It may be difficult to provide customers and regulators with a reason for rejection or acceptance.\n",
    "\n",
    "### Content & Explanation ###\n",
    "\n",
    "#### application_record.csv\t\t ####\n",
    "\n",
    "ID - Client number\t\n",
    "CODE_GENDER - Gender\t\n",
    "FLAG_OWN_CAR - Is there a car\t\n",
    "FLAG_OWN_REALTY - Is there a property\t\n",
    "CNT_CHILDREN - Number of children\t\n",
    "AMT_INCOME_TOTAL - Annual income\t\n",
    "NAME_INCOME_TYPE - Income category\t\n",
    "NAME_EDUCATION_TYPE - Education level\t\n",
    "NAME_FAMILY_STATUS - Marital status\t\n",
    "NAME_HOUSING_TYPE - Way of living\t\n",
    "DAYS_BIRTH\tBirthday - Count backwards from current day (0), -1 means yesterday\n",
    "DAYS_EMPLOYED - Start date of employment\tCount backwards from current day(0). If positive, it means the person currently unemployed.\n",
    "FLAG_MOBIL - Is there a mobile phone\t\n",
    "FLAG_WORK_PHONE - Is there a work phone\t\n",
    "FLAG_PHONE - Is there a phone\t\n",
    "FLAG_EMAIL - Is there an email\t\n",
    "OCCUPATION_TYPE - Occupation\t\n",
    "CNT_FAM_MEMBERS - Family size\t\n",
    "\n",
    "#### credit_record.csv\t\t ####\n",
    "\n",
    "ID - Client number\t\n",
    "MONTHS_BALANCE - Record month\tThe month of the extracted data is the starting point, backwards, 0 is the current month, -1 is the previous month, and so on\n",
    "STATUS - Status\t0: 1-29 days past due 1: 30-59 days past due 2: 60-89 days overdue 3: 90-119 days overdue 4: 120-149 days overdue 5: Overdue or bad debts, write-offs for more than 150 days C: paid off that month X: No loan for the month"
   ]
  },
  {
   "cell_type": "code",
   "execution_count": 1,
   "metadata": {},
   "outputs": [],
   "source": [
    "import pandas as pd"
   ]
  },
  {
   "cell_type": "code",
   "execution_count": 2,
   "metadata": {},
   "outputs": [],
   "source": [
    "application = pd.read_csv('application_record.csv')\n",
    "credit = pd.read_csv('credit_record.csv')"
   ]
  },
  {
   "cell_type": "code",
   "execution_count": null,
   "metadata": {},
   "outputs": [],
   "source": []
  }
 ],
 "metadata": {
  "kernelspec": {
   "display_name": "Python 3",
   "language": "python",
   "name": "python3"
  },
  "language_info": {
   "codemirror_mode": {
    "name": "ipython",
    "version": 3
   },
   "file_extension": ".py",
   "mimetype": "text/x-python",
   "name": "python",
   "nbconvert_exporter": "python",
   "pygments_lexer": "ipython3",
   "version": "3.8.5"
  }
 },
 "nbformat": 4,
 "nbformat_minor": 4
}

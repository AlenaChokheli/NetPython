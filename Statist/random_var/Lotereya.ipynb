{
 "cells": [
  {
   "cell_type": "code",
   "execution_count": 3,
   "metadata": {},
   "outputs": [
    {
     "name": "stdout",
     "output_type": "stream",
     "text": [
      "203982 1000000 0.203982 -195238\n"
     ]
    }
   ],
   "source": [
    "'''Смоделировать игру против лотерейного автомата типа “777”. Игрок платит 1 руб., после чего выпадает случайное целое число,\n",
    "равномерно распределенное от 0 до 999. При некоторых значениях числа игрок получает выигрыш (см. справа)\n",
    "\n",
    "Выгодна ли игра игроку?\n",
    "\n",
    "Сколько в среднем приобретает\n",
    "или теряет игрок за одну игру?\n",
    "\n",
    "777: 200 руб.\n",
    "999: 100 руб.\n",
    "555: 50 руб.\n",
    "333: 15 руб.\n",
    "111: 10 руб.\n",
    "*77: 5 руб.\n",
    "**7: 3 руб.\n",
    "*00: 2 руб.\n",
    "**0: 1 руб.'''\n",
    "\n",
    "import numpy as np\n",
    "\n",
    "trials = 1000000    # Количество попыток\n",
    "successes = 0   # Количество успехов\n",
    "money = 0       # Денежный итог\n",
    "\n",
    "for i in range(trials):\n",
    "    random_score = np.random.randint(0, 1000)    # Случайное количество очков от 100 до 999, так как могут быть только трехзначные  числа\n",
    "    if random_score % 100 == 0:\n",
    "            successes += 1\n",
    "            money += 1 #прибавляем 1, так как сама игра стоит 1 руб, соответственно прибыль 1 руб.\n",
    "    elif random_score % 10 == 0:\n",
    "            successes += 1\n",
    "    elif random_score % 1000 == 777:\n",
    "            successes += 1\n",
    "            money += 199\n",
    "    elif random_score == 999:\n",
    "            successes += 1\n",
    "            money += 99\n",
    "    elif random_score == 555:\n",
    "            successes += 1\n",
    "            money += 49\n",
    "    elif random_score == 333:\n",
    "            successes += 1\n",
    "            money += 14\n",
    "    elif random_score == 111:\n",
    "            successes += 1\n",
    "            money += 9\n",
    "    elif random_score % 100 == 77:\n",
    "            successes += 1\n",
    "            money += 4\n",
    "    elif random_score % 10 == 7:\n",
    "            successes += 1\n",
    "            money += 2\n",
    "    else:\n",
    "        money -= 1   #за каждую неудачную попытку игрок потерял 1 руб. \n",
    "\n",
    "p_monte_carlo = successes / trials    # Вероятность из моделирования\n",
    "\n",
    "print(successes, trials, p_monte_carlo, money)"
   ]
  },
  {
   "cell_type": "code",
   "execution_count": null,
   "metadata": {},
   "outputs": [],
   "source": []
  },
  {
   "cell_type": "code",
   "execution_count": null,
   "metadata": {},
   "outputs": [],
   "source": []
  },
  {
   "cell_type": "code",
   "execution_count": null,
   "metadata": {},
   "outputs": [],
   "source": []
  }
 ],
 "metadata": {
  "kernelspec": {
   "display_name": "Python 3",
   "language": "python",
   "name": "python3"
  },
  "language_info": {
   "codemirror_mode": {
    "name": "ipython",
    "version": 3
   },
   "file_extension": ".py",
   "mimetype": "text/x-python",
   "name": "python",
   "nbconvert_exporter": "python",
   "pygments_lexer": "ipython3",
   "version": "3.8.5"
  }
 },
 "nbformat": 4,
 "nbformat_minor": 4
}

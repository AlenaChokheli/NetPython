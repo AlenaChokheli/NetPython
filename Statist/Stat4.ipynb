{
 "cells": [
  {
   "cell_type": "code",
   "execution_count": null,
   "metadata": {},
   "outputs": [],
   "source": [
    "Посчитайте значение первой и второй производной функции:\n",
    "f(x) = x^5 + 4sin(2x) + cos(3x+3)\n",
    "x = 1"
   ]
  },
  {
   "cell_type": "code",
   "execution_count": 3,
   "metadata": {},
   "outputs": [
    {
     "name": "stdout",
     "output_type": "stream",
     "text": [
      "Before Differentiation : x**5 + 4*sin(2*x) + cos(3*x + 3)\n",
      "After Differentiation : 5*x**4 - 3*sin(3*x + 3) + 8*cos(2*x)\n"
     ]
    }
   ],
   "source": [
    "# import sympy\n",
    "from sympy import * \n",
    "x, y = symbols('x y')\n",
    "gfg_exp = x**5 + 4*sin(2*x) + cos(3*x + 3)\n",
    "  \n",
    "print(\"Before Differentiation : {}\".format(gfg_exp))\n",
    "  \n",
    "dif = diff(gfg_exp, x)\n",
    "  \n",
    "print(\"After Differentiation : {}\".format(dif)) "
   ]
  },
  {
   "cell_type": "code",
   "execution_count": 5,
   "metadata": {},
   "outputs": [
    {
     "data": {
      "text/latex": [
       "$\\displaystyle 32.9789278007727$"
      ],
      "text/plain": [
       "32.9789278007727"
      ]
     },
     "execution_count": 5,
     "metadata": {},
     "output_type": "execute_result"
    }
   ],
   "source": [
    "from scipy.misc import derivative\n",
    "def f(x):                  #расчет первой производной\n",
    "    return 5*x**4 - 3*sin(3*x + 3) + 8*cos(2*x)\n",
    "derivative(f, 1)"
   ]
  },
  {
   "cell_type": "code",
   "execution_count": 6,
   "metadata": {},
   "outputs": [
    {
     "name": "stdout",
     "output_type": "stream",
     "text": [
      "Before Differentiation : 5*x**4 - 3*sin(3*x + 3) + 8*cos(2*x)\n",
      "After Differentiation : 20*x**3 - 16*sin(2*x) - 9*cos(3*x + 3)\n"
     ]
    }
   ],
   "source": [
    "x, y = symbols('x y')\n",
    "gfg_exp = 5*x**4 - 3*sin(3*x + 3) + 8*cos(2*x)\n",
    "  \n",
    "print(\"Before Differentiation : {}\".format(gfg_exp))\n",
    "  \n",
    "dif = diff(gfg_exp, x)\n",
    "  \n",
    "print(\"After Differentiation : {}\".format(dif))"
   ]
  },
  {
   "cell_type": "code",
   "execution_count": 7,
   "metadata": {},
   "outputs": [
    {
     "data": {
      "text/latex": [
       "$\\displaystyle 85.6995399062425$"
      ],
      "text/plain": [
       "85.6995399062425"
      ]
     },
     "execution_count": 7,
     "metadata": {},
     "output_type": "execute_result"
    }
   ],
   "source": [
    "def f(x):                  #расчет второй производной\n",
    "    return 20*x**3 - 16*sin(2*x) - 9*cos(3*x + 3)\n",
    "derivative(f, 1)"
   ]
  },
  {
   "cell_type": "code",
   "execution_count": null,
   "metadata": {},
   "outputs": [],
   "source": []
  }
 ],
 "metadata": {
  "kernelspec": {
   "display_name": "Python 3",
   "language": "python",
   "name": "python3"
  },
  "language_info": {
   "codemirror_mode": {
    "name": "ipython",
    "version": 3
   },
   "file_extension": ".py",
   "mimetype": "text/x-python",
   "name": "python",
   "nbconvert_exporter": "python",
   "pygments_lexer": "ipython3",
   "version": "3.8.5"
  }
 },
 "nbformat": 4,
 "nbformat_minor": 4
}

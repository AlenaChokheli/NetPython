{
 "cells": [
  {
   "cell_type": "code",
   "execution_count": null,
   "metadata": {},
   "outputs": [],
   "source": [
    "#Посчитайте частные производные функций:\n",
    "\n",
    "#1) f(x,y) = 2x^2*y^3 + 1 / x + y^2*x + 7, а для этой функции также градиент в точке (1,2)\n",
    "\n",
    "#2) f(x,y)=x^2y - sin(xy) + cos(x^2) + 6y"
   ]
  },
  {
   "cell_type": "code",
   "execution_count": 4,
   "metadata": {},
   "outputs": [],
   "source": [
    "import numpy as np\n",
    "from sympy import *\n",
    "from scipy.optimize import approx_fprime"
   ]
  },
  {
   "cell_type": "code",
   "execution_count": 15,
   "metadata": {},
   "outputs": [
    {
     "name": "stdout",
     "output_type": "stream",
     "text": [
      "4*x*y**3 + y**2 - 1/x**2\n",
      "6*x**2*y**2 + 2*x*y\n",
      "35.0000000000000\n",
      "28.0000000000000\n"
     ]
    }
   ],
   "source": [
    "#1.\n",
    "\n",
    "x, y = symbols('x y')\n",
    "gfg_exp = 2*x**2*y**3 + 1 / x + y**2*x + 7\n",
    "dif_x = diff(gfg_exp, x)\n",
    "print(dif_x)\n",
    "dif_y = diff(gfg_exp, y)\n",
    "print(dif_y)\n",
    "\n",
    "#Вычисляем градиент в точке (1,2)\n",
    "\n",
    "print(dif_x.evalf(subs={x:1, y:2}))\n",
    "print(dif_y.evalf(subs={x:1, y:2}))\n"
   ]
  },
  {
   "cell_type": "code",
   "execution_count": 8,
   "metadata": {},
   "outputs": [
    {
     "name": "stdout",
     "output_type": "stream",
     "text": [
      "2*x*y - 2*x*sin(x**2) - y*cos(x*y)\n",
      "x**2 - x*cos(x*y) + 6\n"
     ]
    }
   ],
   "source": [
    "#2.\n",
    "\n",
    "x, y = symbols('x y')\n",
    "gfg_exp = x**2*y - sin(x*y) + cos(x**2) + 6*y\n",
    "dif_x = diff(gfg_exp, x)\n",
    "print(dif_x)\n",
    "dif_y = diff(gfg_exp, y)\n",
    "print(dif_y)\n"
   ]
  },
  {
   "cell_type": "code",
   "execution_count": null,
   "metadata": {},
   "outputs": [],
   "source": []
  }
 ],
 "metadata": {
  "kernelspec": {
   "display_name": "Python 3",
   "language": "python",
   "name": "python3"
  },
  "language_info": {
   "codemirror_mode": {
    "name": "ipython",
    "version": 3
   },
   "file_extension": ".py",
   "mimetype": "text/x-python",
   "name": "python",
   "nbconvert_exporter": "python",
   "pygments_lexer": "ipython3",
   "version": "3.8.5"
  }
 },
 "nbformat": 4,
 "nbformat_minor": 4
}

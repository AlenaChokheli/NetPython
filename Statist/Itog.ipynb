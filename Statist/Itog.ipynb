{
 "cells": [
  {
   "cell_type": "markdown",
   "metadata": {},
   "source": [
    "# Итоговая работа."
   ]
  },
  {
   "cell_type": "code",
   "execution_count": 7,
   "metadata": {},
   "outputs": [],
   "source": [
    "import matplotlib.pyplot as plt\n",
    "import numpy as np\n",
    "from sympy import *\n",
    "from scipy.optimize import minimize\n",
    "%matplotlib inline"
   ]
  },
  {
   "cell_type": "markdown",
   "metadata": {},
   "source": [
    "## Задание 1\n",
    "\n",
    "Дана матрица рейтингов фильмов (строки - пользователи (10 человек), столбцы - фильмы (15 фильмов))"
   ]
  },
  {
   "cell_type": "code",
   "execution_count": 8,
   "metadata": {},
   "outputs": [],
   "source": [
    "raitings = np.array([[ 4,  4,  9,  4,  1,  6, 10,  7,  9,  6,  9,  2,  8,  6,  6],\n",
    "                     [ 9,  2,  5, 10,  7,  8, 10,  5,  6,  2,  1,  6,  8,  9,  7],\n",
    "                     [ 1,  6,  8,  8,  4,  9,  3,  8, 10,  5,  2,  6,  8,  1,  6],\n",
    "                     [ 6,  1,  9,  7,  7,  9,  2,  3,  5,  1,  6,  6,  3,  2,  7],\n",
    "                     [ 3,  7,  3,  5,  7,  9,  9,  6,  2,  9,  1,  2,  8, 10,  6],\n",
    "                     [ 8,  3,  7,  3,  8,  6,  1,  8,  8,  6,  1,  9,  4, 10,  1],\n",
    "                     [ 9,  8,  4,  8,  8, 10,  6,  1,  1,  2,  9,  5,  2,  7,  2],\n",
    "                     [ 4,  1,  6,  4,  3, 10,  4,  4,  2,  8,  7,  9,  3,  8,  3],\n",
    "                     [ 2,  7,  7,  6, 10,  6,  8,  9,  8,  6, 10,  1,  7, 10,  4],\n",
    "                     [ 5, 10,  8,  8,  9,  7,  2,  9,  9, 10,  8,  8,  8,  6, 10]])"
   ]
  },
  {
   "cell_type": "markdown",
   "metadata": {},
   "source": [
    "a) Необходимо найти наиболее похожего пользователя по косинусной метрике для каждого из (ответ: 10 пар вида (x, y), где y - наиболее похожий пользователь на пользователя x)."
   ]
  },
  {
   "cell_type": "code",
   "execution_count": 12,
   "metadata": {},
   "outputs": [
    {
     "name": "stdout",
     "output_type": "stream",
     "text": [
      "0 8\n",
      "1 4\n",
      "2 9\n",
      "3 9\n",
      "4 8\n",
      "5 9\n",
      "6 3\n",
      "7 5\n",
      "8 0\n",
      "9 2\n"
     ]
    }
   ],
   "source": [
    "from sklearn.metrics import pairwise_distances\n",
    "\n",
    "for i, vector in enumerate(pairwise_distances(raitings, metric=\"cosine\")):\n",
    "    print(i, list(vector).index(np.min(vector[np.nonzero(vector)])))"
   ]
  },
  {
   "cell_type": "markdown",
   "metadata": {},
   "source": [
    "b) Предположим, вы захотели сжать признаковые описания пользователя с 15 фильмов, до, скажем, 5-ти признаков, как вы это сделаете?"
   ]
  },
  {
   "cell_type": "code",
   "execution_count": 10,
   "metadata": {},
   "outputs": [
    {
     "data": {
      "text/plain": [
       "array([[23.41982063, -5.36092136,  3.83196779, -4.06950174,  1.10267269],\n",
       "       [24.76774917,  4.52188701,  1.35815965,  1.58128545,  8.59912002],\n",
       "       [22.27728589, -6.96492049, -4.84461485, -0.47661647,  3.37152266],\n",
       "       [19.4257757 ,  2.64575227, -6.86014009, -4.76604765,  1.96075707],\n",
       "       [22.8146354 ,  0.51464093,  7.70180188,  4.42379773,  1.29124163],\n",
       "       [21.76961656,  1.94294987, -4.56934779,  8.32306487, -2.21887359],\n",
       "       [21.23427453,  9.78047778,  1.16340271, -4.86074521, -2.60815471],\n",
       "       [19.97476815,  4.00048677, -1.67456316,  1.1512346 , -3.5637169 ],\n",
       "       [26.39306998, -3.03090482,  5.86422753, -1.67503491, -3.71500141],\n",
       "       [29.94016844, -4.82012297, -3.48912415,  0.05527083, -3.62526487]])"
      ]
     },
     "execution_count": 10,
     "metadata": {},
     "output_type": "execute_result"
    }
   ],
   "source": [
    "#Анализ главных компонентов (SVD)\n",
    "\n",
    "from sklearn.decomposition import TruncatedSVD\n",
    "\n",
    "svd = TruncatedSVD(n_components=5)\n",
    "svd.fit_transform(raitings)\n",
    "#print(svd.explained_variance_ratio_)   #Процент отклонения, объясняемый каждым из выбранных компонентов\n",
    "#print(svd.explained_variance_ratio_.sum()) \n",
    "#print(svd.singular_values_) # Сингулярные значения 5 переменных в пространстве меньшей размерности"
   ]
  },
  {
   "cell_type": "markdown",
   "metadata": {},
   "source": [
    "## Задание 2\n",
    "\n",
    "Вычислите производную tg**2(sin(x) + cos(2*x+3)) в точке x_0=1 (на python и на бумаге)."
   ]
  },
  {
   "cell_type": "code",
   "execution_count": 12,
   "metadata": {},
   "outputs": [
    {
     "name": "stdout",
     "output_type": "stream",
     "text": [
      "Before Differentiation : tan(sin(x) + cos(2*x + 3))**2\n",
      "After Differentiation : 2*(-2*sin(2*x + 3) + cos(x))*(tan(sin(x) + cos(2*x + 3))**2 + 1)*tan(sin(x) + cos(2*x + 3))\n"
     ]
    }
   ],
   "source": [
    "x, y = symbols('x y')\n",
    "gfg_exp = tan(sin(x) + cos(2*x+3))**2\n",
    "  \n",
    "print(\"Before Differentiation : {}\".format(gfg_exp))\n",
    "  \n",
    "dif = diff(gfg_exp, x)\n",
    "  \n",
    "print(\"After Differentiation : {}\".format(dif))"
   ]
  },
  {
   "cell_type": "code",
   "execution_count": 13,
   "metadata": {},
   "outputs": [
    {
     "data": {
      "text/latex": [
       "$\\displaystyle 55.3859176433136$"
      ],
      "text/plain": [
       "55.3859176433136"
      ]
     },
     "execution_count": 13,
     "metadata": {},
     "output_type": "execute_result"
    }
   ],
   "source": [
    "from scipy.misc import derivative\n",
    "def f(x):                 \n",
    "    return tan(sin(x) + cos(2*x + 3))**2\n",
    "derivative(f, 1, dx=1e-6)"
   ]
  },
  {
   "cell_type": "markdown",
   "metadata": {},
   "source": [
    "На бумаге\n",
    "f'(1) = 2(-2sin(5) + cos(1))(tan(sin(1) + cos(5))**2 + 1)tan(sin(1) + cos(5))"
   ]
  },
  {
   "cell_type": "code",
   "execution_count": null,
   "metadata": {},
   "outputs": [],
   "source": [
    "## Задание 3\n",
    "Дана функция с неизвестными параметрами a и b, вам также известны значения функции fx в точках x. Найдите оптимальные параметры a, b, минимизирующие абсолютную ошибку error."
   ]
  },
  {
   "cell_type": "code",
   "execution_count": 30,
   "metadata": {},
   "outputs": [],
   "source": [
    "def f(x, a, b):\n",
    "    return np.e**a * np.sin(b*x) + x"
   ]
  },
  {
   "cell_type": "code",
   "execution_count": 31,
   "metadata": {},
   "outputs": [],
   "source": [
    "x = np.array([0.        , 0.26315789, 0.52631579, 0.78947368, 1.05263158,\n",
    "              1.31578947, 1.57894737, 1.84210526, 2.10526316, 2.36842105,\n",
    "              2.63157895, 2.89473684, 3.15789474, 3.42105263, 3.68421053,\n",
    "              3.94736842, 4.21052632, 4.47368421, 4.73684211, 5.        ])"
   ]
  },
  {
   "cell_type": "code",
   "execution_count": 32,
   "metadata": {},
   "outputs": [],
   "source": [
    "fx = np.array([  0.        , -12.01819092, -18.90968634, -17.68786571,\n",
    "                -8.7529108 ,   4.27524517,  16.06801336,  21.81250213,\n",
    "                19.22059845,   9.48411207,  -3.22273056, -13.48576488,\n",
    "               -16.91096359, -11.95866834,  -0.58630088,  12.56873816,\n",
    "                22.12489421,  24.20292139,  18.04522521,   6.33211092])"
   ]
  },
  {
   "cell_type": "code",
   "execution_count": 33,
   "metadata": {
    "scrolled": true
   },
   "outputs": [
    {
     "data": {
      "image/png": "[encoded data removed]",
      "text/plain": [
       "<Figure size 432x288 with 1 Axes>"
      ]
     },
     "metadata": {
      "needs_background": "light"
     },
     "output_type": "display_data"
    }
   ],
   "source": [
    "plt.plot(x, fx)\n",
    "plt.show()"
   ]
  },
  {
   "cell_type": "code",
   "execution_count": 34,
   "metadata": {},
   "outputs": [],
   "source": [
    "def error(params):\n",
    "    return np.sum(np.abs(fx - f(x, params[0], params[1])))"
   ]
  },
  {
   "cell_type": "code",
   "execution_count": 41,
   "metadata": {
    "scrolled": true
   },
   "outputs": [
    {
     "data": {
      "text/plain": [
       "     fun: 0.0767456611156554\n",
       "   maxcv: 0.0\n",
       " message: 'Optimization terminated successfully.'\n",
       "    nfev: 135\n",
       "  status: 1\n",
       " success: True\n",
       "       x: array([ 3.00018796, -2.50008926])"
      ]
     },
     "execution_count": 41,
     "metadata": {},
     "output_type": "execute_result"
    }
   ],
   "source": [
    "from scipy.optimize import minimize\n",
    "minimize(error,[0,0], method= 'COBYLA' )"
   ]
  },
  {
   "cell_type": "markdown",
   "metadata": {},
   "source": [
    "## Задание 4\n",
    "Создайте собственную дискретную случайную величину с 20 значениями. Сгенерируйте 1000 выборок размера 50. Посчитайте среднее для каждой выборки. Постройте гистограмму распределения средних."
   ]
  },
  {
   "cell_type": "code",
   "execution_count": 28,
   "metadata": {},
   "outputs": [
    {
     "name": "stdout",
     "output_type": "stream",
     "text": [
      "[51.68, 52.28, 51.52, 47.52, 51.56, 55.04, 50.42, 52.02, 53.94, 61.94, 47.46, 48.96, 55.14, 54.28, 61.28, 56.16, 50.68, 50.82, 53.12, 46.84, 56.58, 48.64, 53.38, 43.98, 58.68, 59.04, 56.88, 56.06, 51.82, 49.58, 51.5, 55.32, 56.64, 62.74, 56.96, 55.4, 54.7, 54.34, 52.26, 56.6, 47.56, 58.54, 53.3, 56.02, 45.4, 55.98, 58.18, 58.6, 60.36, 59.96, 51.66, 46.28, 52.7, 52.38, 47.46, 62.24, 55.54, 59.78, 53.74, 56.8, 48.98, 60.9, 62.7, 54.32, 55.32, 47.5, 58.5, 52.68, 54.52, 54.24, 50.26, 54.46, 52.52, 56.26, 56.58, 52.9, 55.42, 55.4, 56.42, 51.52, 48.06, 46.22, 56.84, 58.14, 55.54, 50.78, 55.1, 51.76, 52.38, 51.52, 55.74, 49.94, 54.2, 52.82, 57.56, 49.46, 56.42, 52.56, 54.12, 51.24, 57.28, 52.52, 49.9, 56.44, 51.96, 46.88, 50.94, 59.08, 53.12, 55.5, 56.86, 49.5, 49.28, 47.5, 53.04, 45.84, 55.94, 50.28, 54.26, 59.48, 54.4, 50.02, 59.44, 52.34, 49.46, 54.98, 55.28, 54.12, 60.76, 59.0, 48.92, 44.44, 53.24, 51.7, 55.5, 49.74, 50.88, 55.26, 56.38, 55.22, 52.4, 52.86, 45.68, 55.68, 53.98, 48.22, 45.64, 55.84, 51.38, 53.92, 54.9, 47.24, 56.9, 53.3, 61.68, 56.04, 54.76, 48.56, 57.2, 49.88, 51.4, 40.64, 51.78, 54.76, 56.82, 51.06, 58.84, 51.88, 58.14, 58.32, 51.84, 57.2, 57.96, 56.62, 41.98, 55.38, 57.42, 60.96, 58.52, 52.06, 48.88, 56.34, 62.74, 49.7, 54.04, 53.04, 53.2, 55.78, 56.46, 57.38, 52.98, 52.86, 60.08, 55.62, 60.96, 49.48, 55.04, 43.86, 54.12, 55.28, 51.2, 54.3, 51.64, 46.42, 54.22, 51.22, 50.76, 45.54, 49.46, 54.0, 54.76, 54.88, 53.74, 48.28, 52.46, 51.04, 51.66, 56.2, 52.94, 57.82, 55.52, 53.5, 57.24, 54.36, 57.0, 53.04, 55.22, 58.06, 55.88, 49.1, 56.34, 55.68, 48.36, 54.4, 56.12, 56.4, 52.1, 65.0, 54.14, 57.12, 48.18, 55.66, 52.3, 54.92, 44.14, 51.74, 52.32, 50.46, 53.38, 51.68, 61.76, 57.98, 59.16, 55.74, 54.38, 56.4, 49.74, 48.02, 52.92, 53.26, 47.04, 53.64, 47.36, 51.82, 53.0, 56.54, 58.94, 49.14, 54.24, 55.6, 52.02, 49.8, 51.46, 51.74, 54.32, 51.26, 60.14, 46.04, 51.66, 54.48, 48.06, 48.78, 50.08, 55.04, 55.04, 59.96, 50.52, 58.96, 49.9, 55.56, 55.72, 46.26, 57.78, 55.34, 52.54, 53.72, 52.8, 56.76, 59.94, 59.38, 55.62, 47.48, 50.4, 55.92, 48.32, 48.98, 54.08, 53.4, 53.62, 55.1, 60.76, 55.92, 52.52, 53.48, 64.82, 56.84, 56.74, 44.98, 60.02, 60.44, 55.68, 60.7, 52.36, 53.08, 56.94, 53.78, 59.22, 58.54, 56.48, 47.26, 50.54, 60.7, 45.58, 47.62, 52.52, 53.54, 52.4, 51.7, 51.62, 51.38, 51.6, 58.62, 48.76, 50.66, 47.26, 57.58, 48.74, 55.24, 51.48, 55.6, 52.52, 49.96, 54.04, 56.88, 53.44, 50.48, 58.42, 59.38, 46.52, 48.5, 56.42, 50.96, 54.48, 55.8, 52.02, 48.02, 51.4, 51.54, 56.66, 51.82, 51.96, 52.5, 57.52, 52.94, 47.44, 50.18, 56.54, 52.86, 57.38, 47.92, 46.1, 59.5, 59.7, 53.26, 51.02, 52.5, 54.8, 53.46, 46.1, 45.9, 51.18, 54.54, 52.26, 54.02, 57.16, 59.92, 49.5, 51.16, 53.74, 56.58, 46.96, 55.52, 51.08, 48.34, 47.36, 56.72, 51.88, 48.92, 52.42, 50.66, 46.3, 50.68, 51.52, 48.16, 58.38, 55.34, 52.96, 52.28, 60.2, 51.06, 56.84, 49.44, 48.2, 54.18, 51.88, 54.8, 50.98, 53.72, 48.2, 47.76, 53.42, 55.0, 49.66, 52.94, 47.4, 52.9, 65.98, 51.0, 48.28, 52.76, 50.2, 45.98, 54.18, 62.66, 46.7, 47.96, 53.52, 57.16, 47.24, 51.94, 58.38, 47.6, 58.58, 57.14, 49.46, 49.68, 51.36, 63.68, 54.86, 57.76, 51.74, 47.46, 55.64, 61.6, 54.12, 55.74, 47.92, 46.74, 58.4, 53.0, 55.86, 48.82, 47.94, 58.02, 43.84, 59.6, 51.1, 50.94, 63.08, 57.04, 47.14, 48.86, 51.12, 53.22, 47.96, 44.9, 50.72, 46.98, 57.3, 54.64, 52.24, 57.6, 53.0, 47.96, 49.84, 50.88, 53.16, 51.32, 53.04, 53.64, 45.74, 48.84, 63.36, 57.74, 54.84, 52.22, 55.06, 60.82, 52.84, 58.22, 57.94, 54.58, 49.3, 45.52, 48.02, 58.58, 61.22, 50.9, 51.0, 57.72, 42.06, 53.76, 54.44, 50.02, 47.6, 57.38, 52.78, 59.54, 65.0, 50.94, 60.44, 56.4, 48.94, 53.84, 60.84, 48.1, 53.92, 49.4, 50.64, 63.66, 50.64, 52.8, 50.1, 53.38, 50.96, 49.76, 56.38, 54.02, 47.84, 55.58, 52.58, 46.16, 59.66, 53.32, 54.96, 55.8, 51.22, 56.02, 53.08, 53.2, 54.5, 55.06, 54.32, 45.38, 56.22, 59.7, 56.42, 60.44, 62.34, 54.2, 42.28, 47.5, 53.56, 53.0, 50.92, 51.8, 49.52, 44.12, 51.98, 44.52, 61.26, 54.22, 53.72, 52.18, 49.04, 44.7, 46.62, 52.92, 58.56, 49.02, 49.24, 59.36, 56.6, 52.12, 55.12, 56.52, 54.86, 45.9, 54.58, 51.34, 53.66, 51.82, 57.68, 50.96, 51.86, 55.28, 50.68, 53.56, 62.38, 50.18, 52.58, 48.36, 54.74, 59.84, 41.22, 59.7, 49.64, 46.52, 57.54, 55.92, 50.3, 51.14, 54.1, 55.76, 58.28, 54.88, 48.54, 52.66, 53.12, 53.24, 58.86, 41.32, 54.52, 55.2, 53.5, 54.68, 50.44, 54.92, 54.02, 50.48, 55.9, 48.64, 45.54, 49.82, 58.44, 53.48, 50.64, 54.5, 57.74, 49.38, 53.74, 48.84, 55.52, 56.14, 54.08, 56.2, 55.14, 55.54, 57.74, 48.5, 52.84, 52.44, 46.68, 51.24, 51.74, 57.34, 57.1, 50.54, 54.9, 52.56, 52.74, 49.16, 54.5, 49.16, 48.7, 65.58, 53.9, 55.34, 56.18, 49.32, 52.0, 53.74, 54.14, 51.16, 56.72, 53.28, 54.06, 57.06, 50.4, 55.48, 54.88, 52.36, 49.74, 48.02, 61.84, 46.86, 53.52, 53.06, 56.8, 53.32, 55.56, 50.32, 50.96, 52.52, 49.5, 57.84, 50.5, 52.6, 49.46, 55.78, 50.08, 49.78, 53.34, 55.84, 51.12, 61.22, 57.3, 60.18, 43.28, 52.06, 51.4, 55.6, 57.52, 52.48, 57.1, 50.12, 53.32, 47.54, 56.44, 58.66, 53.12, 56.86, 52.56, 42.96, 57.78, 57.64, 61.92, 51.12, 57.8, 52.62, 52.04, 51.74, 48.44, 45.96, 46.88, 60.4, 47.18, 56.62, 58.86, 52.76, 58.1, 46.06, 53.0, 53.98, 58.02, 56.12, 56.12, 50.36, 55.06, 58.08, 44.52, 50.26, 49.6, 51.72, 54.48, 52.74, 55.72, 50.78, 52.14, 57.14, 58.86, 59.76, 50.22, 50.82, 53.04, 56.56, 55.98, 51.56, 49.0, 55.74, 54.08, 59.88, 53.54, 46.18, 59.18, 48.06, 54.68, 54.68, 45.12, 60.28, 49.74, 40.56, 48.68, 44.52, 52.04, 56.28, 61.74, 51.52, 47.52, 66.72, 58.66, 54.74, 54.82, 58.28, 55.5, 50.34, 55.16, 47.34, 48.5, 44.82, 53.56, 56.3, 54.44, 48.48, 60.06, 52.6, 55.74, 60.58, 60.38, 46.16, 58.64, 44.38, 49.28, 53.82, 49.0, 50.14, 61.96, 54.82, 45.52, 51.42, 56.08, 60.74, 56.36, 58.82, 54.38, 48.3, 54.8, 52.28, 49.86, 59.68, 60.1, 62.84, 51.48, 50.98, 54.58, 60.96, 44.1, 61.46, 56.02, 49.22, 54.5, 47.14, 55.48, 49.2, 59.58, 51.22, 55.3, 54.3, 55.46, 46.58, 52.22, 49.5, 48.66, 57.78, 60.48, 51.12, 57.34, 54.16, 48.26, 56.42, 50.96, 51.76, 53.22, 49.74, 51.28, 50.36, 54.52, 53.62, 53.34, 59.58, 54.72, 53.7, 49.86, 48.0, 52.46, 51.18, 59.5, 45.38, 44.1, 53.8, 48.76, 52.5, 58.34, 50.52, 54.28, 51.62, 50.76, 49.88, 54.8, 55.36, 46.1, 48.3, 54.84, 63.7, 48.66, 50.66, 52.4, 51.56, 56.92, 54.02, 55.7, 53.76, 56.26, 49.7, 61.38, 53.46, 55.6, 53.58, 53.78, 56.04, 53.56, 58.56, 60.02, 54.8, 57.78, 50.1, 52.08, 50.82, 54.04, 62.08, 47.26, 53.42, 47.84, 57.5, 50.38, 55.18, 56.26, 53.82, 61.4, 53.8, 55.92, 57.06, 48.98, 54.42, 52.32, 49.9, 50.8, 49.76, 51.76, 55.54, 55.12, 46.14, 58.62, 52.36, 54.86, 51.32, 53.36, 50.36, 52.76, 56.14, 54.24, 58.32, 56.76, 56.1, 53.98, 53.74, 50.36, 55.76, 50.28, 52.66, 48.84, 50.56, 51.84, 53.36, 60.98, 54.12, 53.76, 58.22, 54.1, 56.1, 53.16, 59.78, 56.46, 48.7, 55.58, 62.16, 46.04, 49.84, 49.86, 51.78, 50.68, 56.16, 49.88, 53.12, 51.96, 46.92, 48.76, 51.3, 50.82, 52.26, 49.08]\n"
     ]
    }
   ],
   "source": [
    "a = np.random.randint(0, 100, size = 20)\n",
    "b = []\n",
    "c = []\n",
    "i = 0\n",
    "while i <= 1000:\n",
    "    b_ = np.random.choice(a,50)\n",
    "    b.append(b_)\n",
    "    c_ = c.append(np.mean(b_))\n",
    "    i += 1\n",
    "#print(b)  #1000 выборок размера 50\n",
    "print(c)  #среднее для каждой выборки\n",
    "    "
   ]
  },
  {
   "cell_type": "code",
   "execution_count": 27,
   "metadata": {},
   "outputs": [
    {
     "data": {
      "text/plain": [
       "(array([  9.,  29.,  63., 138., 218., 225., 188.,  89.,  31.,  11.]),\n",
       " array([38.02 , 40.572, 43.124, 45.676, 48.228, 50.78 , 53.332, 55.884,\n",
       "        58.436, 60.988, 63.54 ]),\n",
       " <BarContainer object of 10 artists>)"
      ]
     },
     "execution_count": 27,
     "metadata": {},
     "output_type": "execute_result"
    },
    {
     "data": {
      "image/png": "[encoded data removed]",
      "text/plain": [
       "<Figure size 432x288 with 1 Axes>"
      ]
     },
     "metadata": {
      "needs_background": "light"
     },
     "output_type": "display_data"
    }
   ],
   "source": [
    "plt.hist(c)"
   ]
  },
  {
   "cell_type": "markdown",
   "metadata": {},
   "source": [
    "## Задание 5\n",
    "Найдите собственные значения и собственные вектора матрицы (на python и на бумаге)."
   ]
  },
  {
   "cell_type": "code",
   "execution_count": 10,
   "metadata": {},
   "outputs": [
    {
     "name": "stdout",
     "output_type": "stream",
     "text": [
      "[[1 4]\n",
      " [1 1]]\n"
     ]
    }
   ],
   "source": [
    "m = np.array([[1, 4],\n",
    "              [1, 1]])\n",
    "print(m)"
   ]
  },
  {
   "cell_type": "markdown",
   "metadata": {},
   "source": [
    "w - Собственные числа входной матрицы.\n",
    "\n",
    "v - Собственные векторы входной матрицы."
   ]
  },
  {
   "cell_type": "code",
   "execution_count": 11,
   "metadata": {},
   "outputs": [
    {
     "name": "stdout",
     "output_type": "stream",
     "text": [
      "[ 3. -1.]\n",
      "\n",
      "[[ 0.89442719 -0.89442719]\n",
      " [ 0.4472136   0.4472136 ]]\n"
     ]
    }
   ],
   "source": [
    "w, v = np.linalg.eig(m)\n",
    "print(w)\n",
    "print()\n",
    "print(v)"
   ]
  },
  {
   "cell_type": "code",
   "execution_count": null,
   "metadata": {},
   "outputs": [],
   "source": []
  }
 ],
 "metadata": {
  "kernelspec": {
   "display_name": "Python 3",
   "language": "python",
   "name": "python3"
  },
  "language_info": {
   "codemirror_mode": {
    "name": "ipython",
    "version": 3
   },
   "file_extension": ".py",
   "mimetype": "text/x-python",
   "name": "python",
   "nbconvert_exporter": "python",
   "pygments_lexer": "ipython3",
   "version": "3.8.5"
  }
 },
 "nbformat": 4,
 "nbformat_minor": 4
}

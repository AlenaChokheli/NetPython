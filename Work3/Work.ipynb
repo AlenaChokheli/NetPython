{
 "cells": [
  {
   "cell_type": "code",
   "execution_count": 11,
   "metadata": {},
   "outputs": [
    {
     "name": "stdout",
     "output_type": "stream",
     "text": [
      "Нипишите слово: Tests\n",
      "s\n"
     ]
    }
   ],
   "source": [
    "#Задание 1\n",
    "\n",
    "'''Дана переменная, в которой хранится слово из латинских букв. Напишите код, который выводит на экран:\n",
    "среднюю букву, если число букв в слове нечетное;\n",
    "две средних буквы, если число букв четное.'''\n",
    "\n",
    "word = input('Нипишите слово: ')\n",
    "lword = int(len(word))\n",
    "sword = lword // 2\n",
    "if lword % 2 == 0:\n",
    "    print(word[sword-1:sword+1])\n",
    "else:\n",
    "        print(word[sword])"
   ]
  },
  {
   "cell_type": "code",
   "execution_count": null,
   "metadata": {},
   "outputs": [],
   "source": [
    "#Задание 2\n",
    "\n",
    "'''Напишите программу, которая последовательно запрашивает у пользователя числа (по одному за раз) \n",
    "и после первого нуля выводит сумму всех ранее введенных чисел.'''\n",
    "\n",
    "number = int(input())\n",
    "summa = 0\n",
    "while number != 0:\n",
    "    summa += number\n",
    "    number = int(input())\n",
    "    \n",
    "print(summa)"
   ]
  },
  {
   "cell_type": "code",
   "execution_count": 141,
   "metadata": {},
   "outputs": [
    {
     "name": "stdout",
     "output_type": "stream",
     "text": [
      "Идеальные пары:\n",
      "Alex и Emma\n",
      "Arthur и Kate\n",
      "John и Kira\n",
      "Peter и Liza\n",
      "Richard и Trisha\n"
     ]
    }
   ],
   "source": [
    "#Задание 3\n",
    "\n",
    "'''Мы делаем MVP dating-сервиса, и у нас есть список парней и девушек.\n",
    "Выдвигаем гипотезу: лучшие рекомендации мы получим, если просто отсортируем имена по алфавиту \n",
    "и познакомим людей с одинаковыми индексами после сортировки! Но мы не будем никого знакомить, \n",
    "если кто-то может остаться без пары'''\n",
    "\n",
    "boys = ['Peter', 'Alex', 'John', 'Arthur', 'Richard']\n",
    "girls = ['Kate', 'Liza', 'Kira', 'Emma', 'Trisha']\n",
    "sorted_boys=sorted(boys)\n",
    "sorted_girls=sorted(girls)\n",
    "print('Идеальные пары:')\n",
    "for boys_girls in zip(sorted_boys, sorted_girls):\n",
    "    if len(sorted_boys) == len(sorted_girls):\n",
    "        print(boys_girls[0], 'и', boys_girls[1])\n",
    "    else:\n",
    "        print('Внимание, кто-то может остаться без пары!')\n",
    "        break"
   ]
  },
  {
   "cell_type": "code",
   "execution_count": 127,
   "metadata": {},
   "outputs": [
    {
     "name": "stdout",
     "output_type": "stream",
     "text": [
      "Thailand - 23.9 C\n",
      "Germany - 13.8 C\n",
      "Russia - 3.7 C\n",
      "Poland - 12.0 C\n"
     ]
    }
   ],
   "source": [
    "#Задание 4\n",
    "\n",
    "'''У нас есть список, содержащий информацию о среднедневной температуре в Фаренгейтах за произвольный период по странам \n",
    "(структура данных в примере). Необходимо написать код, который рассчитает среднюю температуру за период в Цельсиях(!) для \n",
    "каждой страны.'''\n",
    "\n",
    "countries_temperature = [['Thailand', [75.2, 77, 78.8, 73.4, 68, 75.2, 77]],\n",
    "                         ['Germany', [57.2, 55.4, 59, 59, 53.6]],['Russia', [35.6, 37.4, 39.2, 41, 42.8, 39.2, 35.6]],\n",
    "                         ['Poland', [50, 50, 53.6, 57.2, 55.4, 55.4]]]\n",
    "for country_name, country_temp in countries_temperature:\n",
    "    new_country_temp = list(country_temp)\n",
    "    avg_temp = sum(country_temp)/len(country_temp)\n",
    "    celsy = round(5/9*(avg_temp-32), 1)\n",
    "    print(country_name, '-', celsy, 'C')"
   ]
  }
 ],
 "metadata": {
  "kernelspec": {
   "display_name": "Python 3",
   "language": "python",
   "name": "python3"
  },
  "language_info": {
   "codemirror_mode": {
    "name": "ipython",
    "version": 3
   },
   "file_extension": ".py",
   "mimetype": "text/x-python",
   "name": "python",
   "nbconvert_exporter": "python",
   "pygments_lexer": "ipython3",
   "version": "3.8.5"
  }
 },
 "nbformat": 4,
 "nbformat_minor": 4
}

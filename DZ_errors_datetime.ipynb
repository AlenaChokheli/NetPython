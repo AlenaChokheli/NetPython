{
 "cells": [
  {
   "cell_type": "code",
   "execution_count": 3,
   "metadata": {},
   "outputs": [
    {
     "name": "stdout",
     "output_type": "stream",
     "text": [
      "1977-08-18 00:00:00\n"
     ]
    }
   ],
   "source": [
    "#Задание 1\n",
    "\n",
    "\"\"\"Печатные газеты использовали свой формат дат для каждого выпуска. Для каждой газеты из списка напишите \n",
    "формат указанной даты для перевода в объект datetime:\n",
    "The Moscow Times - Wednesday, October 2, 2002\n",
    "The Guardian - Friday, 11.10.13\n",
    "Daily News - Thursday, 18 August 1977\"\"\"\n",
    "\n",
    "from datetime import datetime\n",
    "date_the_moscow_times = datetime.strptime('Wednesday, October 2, 2002', '%A, %B %d, %Y')\n",
    "date_the_guardian = datetime.strptime('Friday, 11.10.13', '%A, %y.%m.%d')\n",
    "date_daily_news = datetime.strptime('Thursday, 18 August 1977', '%A, %d %B %Y')\n",
    "\n",
    "print(date_daily_news)"
   ]
  },
  {
   "cell_type": "code",
   "execution_count": 4,
   "metadata": {},
   "outputs": [
    {
     "name": "stdout",
     "output_type": "stream",
     "text": [
      "2018-04-02 True\n",
      "2018-02-29 False\n",
      "2018-19-02 False\n"
     ]
    }
   ],
   "source": [
    "#Задание 2\n",
    "\n",
    "\"\"\"Дан поток дат в формате YYYY-MM-DD, в которых встречаются некорректные значения:\n",
    "stream = [‘2018-04-02’, ‘2018-02-29’, ‘2018-19-02’]\n",
    "\n",
    "Напишите функцию, которая проверяет эти даты на корректность. \n",
    "Т. е. для каждой даты возвращает True (дата корректна) или False (некорректная дата).\"\"\"\n",
    "\n",
    "from datetime import datetime\n",
    "\n",
    "def date_correctness(*stream):\n",
    "    for date in stream:\n",
    "        try:\n",
    "            date_datetime = datetime.strptime(date, '%Y-%m-%d') #проверка на корректность\n",
    "            print(date,True)\n",
    "        except:\n",
    "            print(date,False)\n",
    "\n",
    "date_correctness('2018-04-02', '2018-02-29', '2018-19-02')          "
   ]
  },
  {
   "cell_type": "code",
   "execution_count": 10,
   "metadata": {},
   "outputs": [
    {
     "name": "stdout",
     "output_type": "stream",
     "text": [
      "['2020-03-10', '2020-03-11', '2020-03-12', '2020-03-13', '2020-03-14', '2020-03-15', '2020-03-16', '2020-03-17', '2020-03-18', '2020-03-19']\n"
     ]
    }
   ],
   "source": [
    "#Задание 3\n",
    "\n",
    "\"\"\"Напишите функцию date_range, которая возвращает список дат за период от start_date до end_date. \n",
    "Даты должны вводиться в формате YYYY-MM-DD. В случае неверного формата или при start_date > end_date \n",
    "должен возвращаться пустой список.\"\"\"\n",
    "\n",
    "from datetime import timedelta, datetime, date\n",
    "\n",
    "\n",
    "def date_range(start_date, end_date):\n",
    "    result = [] # объявляем пустой список\n",
    "    delta = timedelta(days=1) # объявляем дельту\n",
    "\n",
    "    while start_date < end_date: # если стартовая дата меньше ИЛИ равна конечной\n",
    "        result.append(start_date.strftime(\"%Y-%m-%d\")) # дополняем пустой список датами в формате %Y-%m-%d\n",
    "        start_date += delta # стартовую дату конкатенируем\n",
    "    return result # иначе, выводим пустой список\n",
    "\n",
    "\n",
    "start_date = date(2020, 3, 10)\n",
    "end_date = date(2020, 3, 20)\n",
    "print(date_range(start_date, end_date))"
   ]
  },
  {
   "cell_type": "code",
   "execution_count": null,
   "metadata": {},
   "outputs": [],
   "source": []
  }
 ],
 "metadata": {
  "kernelspec": {
   "display_name": "Python 3",
   "language": "python",
   "name": "python3"
  },
  "language_info": {
   "codemirror_mode": {
    "name": "ipython",
    "version": 3
   },
   "file_extension": ".py",
   "mimetype": "text/x-python",
   "name": "python",
   "nbconvert_exporter": "python",
   "pygments_lexer": "ipython3",
   "version": "3.8.5"
  }
 },
 "nbformat": 4,
 "nbformat_minor": 4
}

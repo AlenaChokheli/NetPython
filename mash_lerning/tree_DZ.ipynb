{
 "cells": [
  {
   "cell_type": "markdown",
   "metadata": {},
   "source": [
    "Для выполнения домашнего задания необходимо взять файл boston house-prices datase (sklearn.datasets.load_boston) и построить модель. По аналогии задания к лекции «Классификация: Логистическая регрессия и SVM». А именно построить модель регрессии, дерево решений, оптимизировать параметры и сравнить результаты."
   ]
  },
  {
   "cell_type": "code",
   "execution_count": 43,
   "metadata": {},
   "outputs": [],
   "source": [
    "from sklearn.datasets import load_boston\n",
    "import pandas as pd\n",
    "import numpy as np\n",
    "import matplotlib.pyplot as plt\n",
    "import seaborn as sns\n",
    "from sklearn.tree import DecisionTreeRegressor\n",
    "from sklearn.model_selection import train_test_split\n",
    "from sklearn.metrics import mean_squared_error"
   ]
  },
  {
   "cell_type": "code",
   "execution_count": 44,
   "metadata": {},
   "outputs": [
    {
     "data": {
      "text/html": [
       "<div>\n",
       "<style scoped>\n",
       "    .dataframe tbody tr th:only-of-type {\n",
       "        vertical-align: middle;\n",
       "    }\n",
       "\n",
       "    .dataframe tbody tr th {\n",
       "        vertical-align: top;\n",
       "    }\n",
       "\n",
       "    .dataframe thead th {\n",
       "        text-align: right;\n",
       "    }\n",
       "</style>\n",
       "<table border=\"1\" class=\"dataframe\">\n",
       "  <thead>\n",
       "    <tr style=\"text-align: right;\">\n",
       "      <th></th>\n",
       "      <th>CRIM</th>\n",
       "      <th>ZN</th>\n",
       "      <th>INDUS</th>\n",
       "      <th>CHAS</th>\n",
       "      <th>NOX</th>\n",
       "      <th>RM</th>\n",
       "      <th>AGE</th>\n",
       "      <th>DIS</th>\n",
       "      <th>RAD</th>\n",
       "      <th>TAX</th>\n",
       "      <th>PTRATIO</th>\n",
       "      <th>B</th>\n",
       "      <th>LSTAT</th>\n",
       "      <th>MEDV</th>\n",
       "    </tr>\n",
       "  </thead>\n",
       "  <tbody>\n",
       "    <tr>\n",
       "      <th>0</th>\n",
       "      <td>0.00632</td>\n",
       "      <td>18.0</td>\n",
       "      <td>2.31</td>\n",
       "      <td>0</td>\n",
       "      <td>0.538</td>\n",
       "      <td>6.575</td>\n",
       "      <td>65.2</td>\n",
       "      <td>4.0900</td>\n",
       "      <td>1</td>\n",
       "      <td>296</td>\n",
       "      <td>15.3</td>\n",
       "      <td>396.90</td>\n",
       "      <td>4.98</td>\n",
       "      <td>24.0</td>\n",
       "    </tr>\n",
       "    <tr>\n",
       "      <th>1</th>\n",
       "      <td>0.02731</td>\n",
       "      <td>0.0</td>\n",
       "      <td>7.07</td>\n",
       "      <td>0</td>\n",
       "      <td>0.469</td>\n",
       "      <td>6.421</td>\n",
       "      <td>78.9</td>\n",
       "      <td>4.9671</td>\n",
       "      <td>2</td>\n",
       "      <td>242</td>\n",
       "      <td>17.8</td>\n",
       "      <td>396.90</td>\n",
       "      <td>9.14</td>\n",
       "      <td>21.6</td>\n",
       "    </tr>\n",
       "    <tr>\n",
       "      <th>2</th>\n",
       "      <td>0.02729</td>\n",
       "      <td>0.0</td>\n",
       "      <td>7.07</td>\n",
       "      <td>0</td>\n",
       "      <td>0.469</td>\n",
       "      <td>7.185</td>\n",
       "      <td>61.1</td>\n",
       "      <td>4.9671</td>\n",
       "      <td>2</td>\n",
       "      <td>242</td>\n",
       "      <td>17.8</td>\n",
       "      <td>392.83</td>\n",
       "      <td>4.03</td>\n",
       "      <td>34.7</td>\n",
       "    </tr>\n",
       "    <tr>\n",
       "      <th>3</th>\n",
       "      <td>0.03237</td>\n",
       "      <td>0.0</td>\n",
       "      <td>2.18</td>\n",
       "      <td>0</td>\n",
       "      <td>0.458</td>\n",
       "      <td>6.998</td>\n",
       "      <td>45.8</td>\n",
       "      <td>6.0622</td>\n",
       "      <td>3</td>\n",
       "      <td>222</td>\n",
       "      <td>18.7</td>\n",
       "      <td>394.63</td>\n",
       "      <td>2.94</td>\n",
       "      <td>33.4</td>\n",
       "    </tr>\n",
       "    <tr>\n",
       "      <th>4</th>\n",
       "      <td>0.06905</td>\n",
       "      <td>0.0</td>\n",
       "      <td>2.18</td>\n",
       "      <td>0</td>\n",
       "      <td>0.458</td>\n",
       "      <td>7.147</td>\n",
       "      <td>54.2</td>\n",
       "      <td>6.0622</td>\n",
       "      <td>3</td>\n",
       "      <td>222</td>\n",
       "      <td>18.7</td>\n",
       "      <td>396.90</td>\n",
       "      <td>5.33</td>\n",
       "      <td>36.2</td>\n",
       "    </tr>\n",
       "  </tbody>\n",
       "</table>\n",
       "</div>"
      ],
      "text/plain": [
       "      CRIM    ZN  INDUS  CHAS    NOX     RM   AGE     DIS  RAD  TAX  PTRATIO  \\\n",
       "0  0.00632  18.0   2.31     0  0.538  6.575  65.2  4.0900    1  296     15.3   \n",
       "1  0.02731   0.0   7.07     0  0.469  6.421  78.9  4.9671    2  242     17.8   \n",
       "2  0.02729   0.0   7.07     0  0.469  7.185  61.1  4.9671    2  242     17.8   \n",
       "3  0.03237   0.0   2.18     0  0.458  6.998  45.8  6.0622    3  222     18.7   \n",
       "4  0.06905   0.0   2.18     0  0.458  7.147  54.2  6.0622    3  222     18.7   \n",
       "\n",
       "        B  LSTAT  MEDV  \n",
       "0  396.90   4.98  24.0  \n",
       "1  396.90   9.14  21.6  \n",
       "2  392.83   4.03  34.7  \n",
       "3  394.63   2.94  33.4  \n",
       "4  396.90   5.33  36.2  "
      ]
     },
     "execution_count": 44,
     "metadata": {},
     "output_type": "execute_result"
    }
   ],
   "source": [
    "data = pd.read_csv(load_boston()['filename'], skiprows=1)\n",
    "data.head()"
   ]
  },
  {
   "cell_type": "code",
   "execution_count": 45,
   "metadata": {},
   "outputs": [
    {
     "name": "stdout",
     "output_type": "stream",
     "text": [
      "<class 'pandas.core.frame.DataFrame'>\n",
      "RangeIndex: 506 entries, 0 to 505\n",
      "Data columns (total 14 columns):\n",
      " #   Column   Non-Null Count  Dtype  \n",
      "---  ------   --------------  -----  \n",
      " 0   CRIM     506 non-null    float64\n",
      " 1   ZN       506 non-null    float64\n",
      " 2   INDUS    506 non-null    float64\n",
      " 3   CHAS     506 non-null    int64  \n",
      " 4   NOX      506 non-null    float64\n",
      " 5   RM       506 non-null    float64\n",
      " 6   AGE      506 non-null    float64\n",
      " 7   DIS      506 non-null    float64\n",
      " 8   RAD      506 non-null    int64  \n",
      " 9   TAX      506 non-null    int64  \n",
      " 10  PTRATIO  506 non-null    float64\n",
      " 11  B        506 non-null    float64\n",
      " 12  LSTAT    506 non-null    float64\n",
      " 13  MEDV     506 non-null    float64\n",
      "dtypes: float64(11), int64(3)\n",
      "memory usage: 55.5 KB\n"
     ]
    }
   ],
   "source": [
    "data.info()"
   ]
  },
  {
   "cell_type": "markdown",
   "metadata": {},
   "source": [
    "Пропусков в даных нет, можно продолжать работу"
   ]
  },
  {
   "cell_type": "markdown",
   "metadata": {},
   "source": [
    "#### Построим модель, не задавая гиперпараметры, ограничим только максимальную глубину дерева ####"
   ]
  },
  {
   "cell_type": "code",
   "execution_count": 46,
   "metadata": {},
   "outputs": [],
   "source": [
    "clf = DecisionTreeRegressor(max_depth=4)"
   ]
  },
  {
   "cell_type": "code",
   "execution_count": 47,
   "metadata": {},
   "outputs": [],
   "source": [
    "X, y = data.iloc[:, :-1], data['MEDV']"
   ]
  },
  {
   "cell_type": "code",
   "execution_count": 48,
   "metadata": {},
   "outputs": [],
   "source": [
    "X_train, X_test, y_train, y_test= train_test_split(X, y, test_size=0.3, random_state=146)"
   ]
  },
  {
   "cell_type": "code",
   "execution_count": 49,
   "metadata": {},
   "outputs": [
    {
     "data": {
      "text/plain": [
       "DecisionTreeRegressor(max_depth=4)"
      ]
     },
     "execution_count": 49,
     "metadata": {},
     "output_type": "execute_result"
    }
   ],
   "source": [
    "clf.fit(X_train, y_train)"
   ]
  },
  {
   "cell_type": "code",
   "execution_count": 50,
   "metadata": {},
   "outputs": [],
   "source": [
    "y_pred = clf.predict(X_test)"
   ]
  },
  {
   "cell_type": "code",
   "execution_count": 51,
   "metadata": {},
   "outputs": [
    {
     "data": {
      "text/plain": [
       "20.393848515637963"
      ]
     },
     "execution_count": 51,
     "metadata": {},
     "output_type": "execute_result"
    }
   ],
   "source": [
    "mean_squared_error(y_pred, y_test)"
   ]
  },
  {
   "cell_type": "code",
   "execution_count": 52,
   "metadata": {},
   "outputs": [
    {
     "data": {
      "text/plain": [
       "0.6976715129737265"
      ]
     },
     "execution_count": 52,
     "metadata": {},
     "output_type": "execute_result"
    }
   ],
   "source": [
    "clf.score(X_test, y_test)"
   ]
  },
  {
   "cell_type": "markdown",
   "metadata": {},
   "source": [
    "#### Обучим модель на том же разделении данных (c помощью GridSearchCV) ####"
   ]
  },
  {
   "cell_type": "code",
   "execution_count": 53,
   "metadata": {},
   "outputs": [],
   "source": [
    "from sklearn.model_selection import GridSearchCV"
   ]
  },
  {
   "cell_type": "code",
   "execution_count": 54,
   "metadata": {},
   "outputs": [],
   "source": [
    "parameters = {'splitter':('best','random'), \n",
    "              'max_depth':np.arange(1,8), \n",
    "              'min_samples_split':np.arange(2,10), \n",
    "              'min_samples_leaf':np.arange(1,5)}"
   ]
  },
  {
   "cell_type": "code",
   "execution_count": 55,
   "metadata": {},
   "outputs": [
    {
     "data": {
      "text/plain": [
       "GridSearchCV(cv=7, estimator=DecisionTreeRegressor(), n_jobs=-1,\n",
       "             param_grid={'max_depth': array([1, 2, 3, 4, 5, 6, 7]),\n",
       "                         'min_samples_leaf': array([1, 2, 3, 4]),\n",
       "                         'min_samples_split': array([2, 3, 4, 5, 6, 7, 8, 9]),\n",
       "                         'splitter': ('best', 'random')})"
      ]
     },
     "execution_count": 55,
     "metadata": {},
     "output_type": "execute_result"
    }
   ],
   "source": [
    "tree_grid = GridSearchCV(DecisionTreeRegressor(), parameters, cv = 7, n_jobs=-1)\n",
    "tree_grid.fit(X_train, y_train)"
   ]
  },
  {
   "cell_type": "code",
   "execution_count": 56,
   "metadata": {},
   "outputs": [
    {
     "data": {
      "text/plain": [
       "{'max_depth': 6,\n",
       " 'min_samples_leaf': 4,\n",
       " 'min_samples_split': 4,\n",
       " 'splitter': 'random'}"
      ]
     },
     "execution_count": 56,
     "metadata": {},
     "output_type": "execute_result"
    }
   ],
   "source": [
    "tree_grid.best_params_"
   ]
  },
  {
   "cell_type": "code",
   "execution_count": 57,
   "metadata": {},
   "outputs": [],
   "source": [
    "best_tree = DecisionTreeRegressor(max_depth=6, min_samples_leaf=4, min_samples_split=2, splitter='random')"
   ]
  },
  {
   "cell_type": "code",
   "execution_count": 58,
   "metadata": {},
   "outputs": [
    {
     "data": {
      "text/plain": [
       "DecisionTreeRegressor(max_depth=6, min_samples_leaf=4, splitter='random')"
      ]
     },
     "execution_count": 58,
     "metadata": {},
     "output_type": "execute_result"
    }
   ],
   "source": [
    "best_tree.fit(X_train, y_train)"
   ]
  },
  {
   "cell_type": "code",
   "execution_count": 59,
   "metadata": {},
   "outputs": [
    {
     "data": {
      "text/plain": [
       "0.7851887385433656"
      ]
     },
     "execution_count": 59,
     "metadata": {},
     "output_type": "execute_result"
    }
   ],
   "source": [
    "y_pred_best = best_tree.predict(X_test)\n",
    "best_tree.score(X_test, y_test)"
   ]
  },
  {
   "cell_type": "code",
   "execution_count": 60,
   "metadata": {},
   "outputs": [
    {
     "data": {
      "text/plain": [
       "14.490292888671762"
      ]
     },
     "execution_count": 60,
     "metadata": {},
     "output_type": "execute_result"
    }
   ],
   "source": [
    "mean_squared_error(y_test, y_pred_best)"
   ]
  },
  {
   "cell_type": "markdown",
   "metadata": {},
   "source": [
    "С новыми гиперпараметрами mse заметно уменьшилась, а точность предсказания увеличилась."
   ]
  },
  {
   "cell_type": "code",
   "execution_count": 61,
   "metadata": {},
   "outputs": [
    {
     "data": {
      "text/plain": [
       "([<matplotlib.axis.YTick at 0xf93d5e0>,\n",
       "  <matplotlib.axis.YTick at 0xf93deb0>,\n",
       "  <matplotlib.axis.YTick at 0xf97d910>,\n",
       "  <matplotlib.axis.YTick at 0xfc64eb0>,\n",
       "  <matplotlib.axis.YTick at 0xfc861f0>,\n",
       "  <matplotlib.axis.YTick at 0xfc86760>,\n",
       "  <matplotlib.axis.YTick at 0xfc86c70>,\n",
       "  <matplotlib.axis.YTick at 0xfc531c0>,\n",
       "  <matplotlib.axis.YTick at 0xfc536d0>,\n",
       "  <matplotlib.axis.YTick at 0xfc53c40>,\n",
       "  <matplotlib.axis.YTick at 0xf914190>,\n",
       "  <matplotlib.axis.YTick at 0xf9146a0>,\n",
       "  <matplotlib.axis.YTick at 0xf914bb0>],\n",
       " [Text(0, 0, 'CRIM'),\n",
       "  Text(0, 1, 'ZN'),\n",
       "  Text(0, 2, 'INDUS'),\n",
       "  Text(0, 3, 'CHAS'),\n",
       "  Text(0, 4, 'NOX'),\n",
       "  Text(0, 5, 'RM'),\n",
       "  Text(0, 6, 'AGE'),\n",
       "  Text(0, 7, 'DIS'),\n",
       "  Text(0, 8, 'RAD'),\n",
       "  Text(0, 9, 'TAX'),\n",
       "  Text(0, 10, 'PTRATIO'),\n",
       "  Text(0, 11, 'B'),\n",
       "  Text(0, 12, 'LSTAT')])"
      ]
     },
     "execution_count": 61,
     "metadata": {},
     "output_type": "execute_result"
    },
    {
     "data": {
      "image/png": "[encoded data removed]",
      "text/plain": [
       "<Figure size 432x288 with 1 Axes>"
      ]
     },
     "metadata": {
      "needs_background": "light"
     },
     "output_type": "display_data"
    }
   ],
   "source": [
    "plt.barh(np.arange(len(best_tree.feature_importances_)), best_tree.feature_importances_)\n",
    "plt.yticks(np.arange(len(X.columns)),X.columns)"
   ]
  },
  {
   "cell_type": "markdown",
   "metadata": {},
   "source": [
    "Наиболее важными оказались следующие показатели: LSTAT и RM."
   ]
  },
  {
   "cell_type": "markdown",
   "metadata": {},
   "source": [
    "#### Визуализируем само дерево ####"
   ]
  },
  {
   "cell_type": "code",
   "execution_count": 66,
   "metadata": {},
   "outputs": [],
   "source": [
    "from sklearn.tree import export_graphviz\n",
    "\n",
    "def get_tree_dot_view(tree, feature_names=None, class_names=None):\n",
    "    print(export_graphviz(tree, out_file=None, filled=True, feature_names=feature_names, class_names=class_names))"
   ]
  },
  {
   "cell_type": "code",
   "execution_count": 68,
   "metadata": {},
   "outputs": [
    {
     "name": "stdout",
     "output_type": "stream",
     "text": [
      "digraph Tree {\n",
      "node [shape=box, style=\"filled\", color=\"black\"] ;\n",
      "0 [label=\"INDUS <= 5.665\\nmse = 91.487\\nsamples = 354\\nvalue = 22.788\", fillcolor=\"#f7d7c1\"] ;\n",
      "1 [label=\"RM <= 7.292\\nmse = 75.577\\nsamples = 100\\nvalue = 29.251\", fillcolor=\"#f2c19e\"] ;\n",
      "0 -> 1 [labeldistance=2.5, labelangle=45, headlabel=\"True\"] ;\n",
      "2 [label=\"LSTAT <= 12.358\\nmse = 35.313\\nsamples = 84\\nvalue = 26.483\", fillcolor=\"#f4cbad\"] ;\n",
      "1 -> 2 ;\n",
      "3 [label=\"RM <= 6.44\\nmse = 34.123\\nsamples = 77\\nvalue = 26.936\", fillcolor=\"#f4c9ab\"] ;\n",
      "2 -> 3 ;\n",
      "4 [label=\"LSTAT <= 7.197\\nmse = 5.673\\nsamples = 30\\nvalue = 21.97\", fillcolor=\"#f7dac5\"] ;\n",
      "3 -> 4 ;\n",
      "5 [label=\"LSTAT <= 6.404\\nmse = 5.424\\nsamples = 9\\nvalue = 23.533\", fillcolor=\"#f6d5bd\"] ;\n",
      "4 -> 5 ;\n",
      "6 [label=\"mse = 6.822\\nsamples = 5\\nvalue = 24.22\", fillcolor=\"#f6d3b9\"] ;\n",
      "5 -> 6 ;\n",
      "7 [label=\"mse = 2.352\\nsamples = 4\\nvalue = 22.675\", fillcolor=\"#f7d8c1\"] ;\n",
      "5 -> 7 ;\n",
      "8 [label=\"PTRATIO <= 17.186\\nmse = 4.284\\nsamples = 21\\nvalue = 21.3\", fillcolor=\"#f8dcc9\"] ;\n",
      "4 -> 8 ;\n",
      "9 [label=\"mse = 1.771\\nsamples = 11\\nvalue = 22.418\", fillcolor=\"#f7d9c3\"] ;\n",
      "8 -> 9 ;\n",
      "10 [label=\"mse = 4.16\\nsamples = 10\\nvalue = 20.07\", fillcolor=\"#f9e1cf\"] ;\n",
      "8 -> 10 ;\n",
      "11 [label=\"RM <= 6.918\\nmse = 26.49\\nsamples = 47\\nvalue = 30.106\", fillcolor=\"#f2bf9a\"] ;\n",
      "3 -> 11 ;\n",
      "12 [label=\"DIS <= 4.631\\nmse = 16.582\\nsamples = 25\\nvalue = 26.92\", fillcolor=\"#f4c9ab\"] ;\n",
      "11 -> 12 ;\n",
      "13 [label=\"mse = 12.293\\nsamples = 7\\nvalue = 29.771\", fillcolor=\"#f2c09c\"] ;\n",
      "12 -> 13 ;\n",
      "14 [label=\"mse = 13.859\\nsamples = 18\\nvalue = 25.811\", fillcolor=\"#f5cdb1\"] ;\n",
      "12 -> 14 ;\n",
      "15 [label=\"TAX <= 249.342\\nmse = 13.099\\nsamples = 22\\nvalue = 33.727\", fillcolor=\"#efb287\"] ;\n",
      "11 -> 15 ;\n",
      "16 [label=\"mse = 2.023\\nsamples = 7\\nvalue = 36.1\", fillcolor=\"#eeaa7a\"] ;\n",
      "15 -> 16 ;\n",
      "17 [label=\"mse = 14.415\\nsamples = 15\\nvalue = 32.62\", fillcolor=\"#f0b68c\"] ;\n",
      "15 -> 17 ;\n",
      "18 [label=\"mse = 21.309\\nsamples = 7\\nvalue = 21.5\", fillcolor=\"#f8dcc8\"] ;\n",
      "2 -> 18 ;\n",
      "19 [label=\"LSTAT <= 6.599\\nmse = 35.62\\nsamples = 16\\nvalue = 43.781\", fillcolor=\"#e89051\"] ;\n",
      "1 -> 19 ;\n",
      "20 [label=\"NOX <= 0.477\\nmse = 24.006\\nsamples = 12\\nvalue = 45.033\", fillcolor=\"#e78c4a\"] ;\n",
      "19 -> 20 ;\n",
      "21 [label=\"TAX <= 235.101\\nmse = 25.461\\nsamples = 8\\nvalue = 43.512\", fillcolor=\"#e89152\"] ;\n",
      "20 -> 21 ;\n",
      "22 [label=\"mse = 34.187\\nsamples = 4\\nvalue = 43.325\", fillcolor=\"#e89253\"] ;\n",
      "21 -> 22 ;\n",
      "23 [label=\"mse = 16.665\\nsamples = 4\\nvalue = 43.7\", fillcolor=\"#e89151\"] ;\n",
      "21 -> 23 ;\n",
      "24 [label=\"mse = 7.217\\nsamples = 4\\nvalue = 48.075\", fillcolor=\"#e5823a\"] ;\n",
      "20 -> 24 ;\n",
      "25 [label=\"mse = 51.652\\nsamples = 4\\nvalue = 40.025\", fillcolor=\"#eb9d65\"] ;\n",
      "19 -> 25 ;\n",
      "26 [label=\"PTRATIO <= 19.405\\nmse = 74.83\\nsamples = 254\\nvalue = 20.243\", fillcolor=\"#f9e0ce\"] ;\n",
      "0 -> 26 [labeldistance=2.5, labelangle=-45, headlabel=\"False\"] ;\n",
      "27 [label=\"LSTAT <= 4.393\\nmse = 66.012\\nsamples = 110\\nvalue = 24.385\", fillcolor=\"#f6d2b8\"] ;\n",
      "26 -> 27 ;\n",
      "28 [label=\"NOX <= 0.484\\nmse = 76.642\\nsamples = 12\\nvalue = 40.567\", fillcolor=\"#ea9b62\"] ;\n",
      "27 -> 28 ;\n",
      "29 [label=\"mse = 29.762\\nsamples = 6\\nvalue = 32.833\", fillcolor=\"#f0b58b\"] ;\n",
      "28 -> 29 ;\n",
      "30 [label=\"mse = 3.913\\nsamples = 6\\nvalue = 48.3\", fillcolor=\"#e58139\"] ;\n",
      "28 -> 30 ;\n",
      "31 [label=\"RM <= 5.685\\nmse = 28.719\\nsamples = 98\\nvalue = 22.403\", fillcolor=\"#f7d9c3\"] ;\n",
      "27 -> 31 ;\n",
      "32 [label=\"CRIM <= 0.65\\nmse = 6.222\\nsamples = 16\\nvalue = 17.531\", fillcolor=\"#fae9dd\"] ;\n",
      "31 -> 32 ;\n",
      "33 [label=\"INDUS <= 8.01\\nmse = 4.88\\nsamples = 9\\nvalue = 18.833\", fillcolor=\"#fae5d6\"] ;\n",
      "32 -> 33 ;\n",
      "34 [label=\"mse = 3.557\\nsamples = 4\\nvalue = 17.475\", fillcolor=\"#fbe9dd\"] ;\n",
      "33 -> 34 ;\n",
      "35 [label=\"mse = 3.282\\nsamples = 5\\nvalue = 19.92\", fillcolor=\"#f9e1d0\"] ;\n",
      "33 -> 35 ;\n",
      "36 [label=\"mse = 2.965\\nsamples = 7\\nvalue = 15.857\", fillcolor=\"#fcefe6\"] ;\n",
      "32 -> 36 ;\n",
      "37 [label=\"RM <= 6.544\\nmse = 27.574\\nsamples = 82\\nvalue = 23.354\", fillcolor=\"#f6d5be\"] ;\n",
      "31 -> 37 ;\n",
      "38 [label=\"AGE <= 44.979\\nmse = 7.324\\nsamples = 68\\nvalue = 21.644\", fillcolor=\"#f8dbc7\"] ;\n",
      "37 -> 38 ;\n",
      "39 [label=\"mse = 5.014\\nsamples = 19\\nvalue = 23.6\", fillcolor=\"#f6d5bc\"] ;\n",
      "38 -> 39 ;\n",
      "40 [label=\"mse = 6.161\\nsamples = 49\\nvalue = 20.886\", fillcolor=\"#f8decb\"] ;\n",
      "38 -> 40 ;\n",
      "41 [label=\"LSTAT <= 5.103\\nmse = 42.788\\nsamples = 14\\nvalue = 31.657\", fillcolor=\"#f1b992\"] ;\n",
      "37 -> 41 ;\n",
      "42 [label=\"mse = 81.352\\nsamples = 4\\nvalue = 37.35\", fillcolor=\"#eda673\"] ;\n",
      "41 -> 42 ;\n",
      "43 [label=\"mse = 9.214\\nsamples = 10\\nvalue = 29.38\", fillcolor=\"#f2c19e\"] ;\n",
      "41 -> 43 ;\n",
      "44 [label=\"LSTAT <= 8.716\\nmse = 58.459\\nsamples = 144\\nvalue = 17.08\", fillcolor=\"#fbebdf\"] ;\n",
      "26 -> 44 ;\n",
      "45 [label=\"LSTAT <= 5.167\\nmse = 124.691\\nsamples = 16\\nvalue = 27.725\", fillcolor=\"#f3c7a6\"] ;\n",
      "44 -> 45 ;\n",
      "46 [label=\"mse = 120.968\\nsamples = 4\\nvalue = 43.65\", fillcolor=\"#e89152\"] ;\n",
      "45 -> 46 ;\n",
      "47 [label=\"PTRATIO <= 20.339\\nmse = 13.218\\nsamples = 12\\nvalue = 22.417\", fillcolor=\"#f7d9c3\"] ;\n",
      "45 -> 47 ;\n",
      "48 [label=\"PTRATIO <= 20.019\\nmse = 2.409\\nsamples = 8\\nvalue = 23.388\", fillcolor=\"#f6d5be\"] ;\n",
      "47 -> 48 ;\n",
      "49 [label=\"mse = 2.677\\nsamples = 4\\nvalue = 22.875\", fillcolor=\"#f7d7c0\"] ;\n",
      "48 -> 49 ;\n",
      "50 [label=\"mse = 1.615\\nsamples = 4\\nvalue = 23.9\", fillcolor=\"#f6d4bb\"] ;\n",
      "48 -> 50 ;\n",
      "51 [label=\"mse = 29.182\\nsamples = 4\\nvalue = 20.475\", fillcolor=\"#f8dfcd\"] ;\n",
      "47 -> 51 ;\n",
      "52 [label=\"LSTAT <= 16.257\\nmse = 34.244\\nsamples = 128\\nvalue = 15.749\", fillcolor=\"#fcefe6\"] ;\n",
      "44 -> 52 ;\n",
      "53 [label=\"LSTAT <= 10.421\\nmse = 32.397\\nsamples = 48\\nvalue = 20.198\", fillcolor=\"#f9e0cf\"] ;\n",
      "52 -> 53 ;\n",
      "54 [label=\"mse = 104.607\\nsamples = 7\\nvalue = 25.814\", fillcolor=\"#f5cdb1\"] ;\n",
      "53 -> 54 ;\n",
      "55 [label=\"LSTAT <= 15.486\\nmse = 13.763\\nsamples = 41\\nvalue = 19.239\", fillcolor=\"#f9e3d4\"] ;\n",
      "53 -> 55 ;\n",
      "56 [label=\"mse = 11.604\\nsamples = 37\\nvalue = 19.732\", fillcolor=\"#f9e2d1\"] ;\n",
      "55 -> 56 ;\n",
      "57 [label=\"mse = 10.657\\nsamples = 4\\nvalue = 14.675\", fillcolor=\"#fcf3ec\"] ;\n",
      "55 -> 57 ;\n",
      "58 [label=\"TAX <= 503.525\\nmse = 16.353\\nsamples = 80\\nvalue = 13.08\", fillcolor=\"#fef8f4\"] ;\n",
      "52 -> 58 ;\n",
      "59 [label=\"TAX <= 319.0\\nmse = 3.831\\nsamples = 17\\nvalue = 15.124\", fillcolor=\"#fcf1ea\"] ;\n",
      "58 -> 59 ;\n",
      "60 [label=\"mse = 0.724\\nsamples = 7\\nvalue = 13.786\", fillcolor=\"#fdf6f1\"] ;\n",
      "59 -> 60 ;\n",
      "61 [label=\"mse = 3.876\\nsamples = 10\\nvalue = 16.06\", fillcolor=\"#fceee5\"] ;\n",
      "59 -> 61 ;\n",
      "62 [label=\"LSTAT <= 19.117\\nmse = 18.301\\nsamples = 63\\nvalue = 12.529\", fillcolor=\"#fefaf7\"] ;\n",
      "58 -> 62 ;\n",
      "63 [label=\"mse = 8.942\\nsamples = 20\\nvalue = 15.635\", fillcolor=\"#fcf0e7\"] ;\n",
      "62 -> 63 ;\n",
      "64 [label=\"mse = 16.078\\nsamples = 43\\nvalue = 11.084\", fillcolor=\"#ffffff\"] ;\n",
      "62 -> 64 ;\n",
      "}\n"
     ]
    }
   ],
   "source": [
    "get_tree_dot_view(tree_grid.best_estimator_, X.columns)"
   ]
  },
  {
   "cell_type": "code",
   "execution_count": null,
   "metadata": {},
   "outputs": [],
   "source": []
  },
  {
   "cell_type": "code",
   "execution_count": null,
   "metadata": {},
   "outputs": [],
   "source": []
  }
 ],
 "metadata": {
  "kernelspec": {
   "display_name": "Python 3",
   "language": "python",
   "name": "python3"
  },
  "language_info": {
   "codemirror_mode": {
    "name": "ipython",
    "version": 3
   },
   "file_extension": ".py",
   "mimetype": "text/x-python",
   "name": "python",
   "nbconvert_exporter": "python",
   "pygments_lexer": "ipython3",
   "version": "3.8.5"
  }
 },
 "nbformat": 4,
 "nbformat_minor": 4
}

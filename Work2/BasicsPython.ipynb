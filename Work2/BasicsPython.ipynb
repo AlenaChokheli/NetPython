{
 "cells": [
  {
   "cell_type": "code",
   "execution_count": 24,
   "metadata": {},
   "outputs": [
    {
     "name": "stdout",
     "output_type": "stream",
     "text": [
      "Фраза 1 длиннее фразы 2\n"
     ]
    }
   ],
   "source": [
    "#Задание 1\n",
    "\n",
    "phrase_1 = 'Насколько проще было бы писать программы, если бы не заказчики'\n",
    "phrase_2 = '640Кб должно хватить для любых задач. Билл Гейтс (по легенде)'\n",
    "if len(phrase_1) > len(phrase_2):\n",
    "    print('Фраза 1 длиннее фразы 2')\n",
    "elif len(phrase_2) > len(phrase_1):\n",
    "    print('Фраза 2 длиннее фразы 1')"
   ]
  },
  {
   "cell_type": "code",
   "execution_count": 25,
   "metadata": {},
   "outputs": [
    {
     "name": "stdout",
     "output_type": "stream",
     "text": [
      "Фраза 2 длиннее фразы 1\n"
     ]
    }
   ],
   "source": [
    "phrase_1 = '640Кб должно хватить для любых задач. Билл Гейтс (по легенде)'\n",
    "phrase_2 = 'Насколько проще было бы писать программы, если бы не заказчики'\n",
    "if len(phrase_1) >len (phrase_2):\n",
    "    print('Фраза 1 длиннее фразы 2')\n",
    "elif len(phrase_2) > len(phrase_1):\n",
    "    print('Фраза 2 длиннее фразы 1')"
   ]
  },
  {
   "cell_type": "code",
   "execution_count": 26,
   "metadata": {},
   "outputs": [
    {
     "name": "stdout",
     "output_type": "stream",
     "text": [
      "Фразы равной длины\n"
     ]
    }
   ],
   "source": [
    "phrase_1 = 'Насколько проще было бы писать программы, если бы не заказчики'\n",
    "phrase_2 = 'Насколько проще было бы писать программы, если бы не заказчики'\n",
    "if len(phrase_1) > len(phrase_2):\n",
    "    print('Фраза 1 длиннее фразы 2')\n",
    "elif len(phrase_2) > len(phrase_1):\n",
    "    print('Фраза 2 длиннее фразы 1')\n",
    "elif len(phrase_1) == len(phrase_2):\n",
    "    print('Фразы равной длины')"
   ]
  },
  {
   "cell_type": "code",
   "execution_count": 15,
   "metadata": {},
   "outputs": [
    {
     "name": "stdout",
     "output_type": "stream",
     "text": [
      "2000\n",
      "Високосный год\n"
     ]
    }
   ],
   "source": [
    "#Задание 2\n",
    "\n",
    "year = int(input())\n",
    "if year % 4 == 0 or (year % 100 == 0) or (year % 400 == 0):\n",
    "    print(\"Високосный год\")\n",
    "else:\n",
    "    print(\"Обычный год\")"
   ]
  },
  {
   "cell_type": "code",
   "execution_count": 17,
   "metadata": {},
   "outputs": [
    {
     "name": "stdout",
     "output_type": "stream",
     "text": [
      "Введите день: 18\n",
      "Введите месяц: Ноябрь\n",
      "Ваш знак зодиака: Скорпион\n"
     ]
    }
   ],
   "source": [
    "#Задание 3\n",
    "\n",
    "user_day = int(input('Введите день: '))\n",
    "user_mounth = str(input('Введите месяц: '))\n",
    "if user_day >= 21 and user_mounth == \"Март\" or user_day <= 20 and user_mounth == \"Апрель\":\n",
    "    print('Ваш знак зодиака: Овен')\n",
    "elif user_day >= 21 and user_mounth == \"Апрель\" or user_day <= 21 and user_mounth == \"Май\":\n",
    "    print('Ваш знак зодиака: Телец')\n",
    "elif user_day >= 22 and user_mounth == \"Май\" or user_day <= 21 and user_mounth == \"Июнь\":\n",
    "    print('Ваш знак зодиака: Близнецы')\n",
    "elif user_day >= 22 and user_mounth == \"Июнь\" or user_day <= 22 and user_mounth == \"Июль\":\n",
    "    print('Ваш знак зодиака: Рак')\n",
    "elif user_day >= 23 and user_mounth == \"Июль\" or user_day <= 21 and user_mounth == \"Август\":\n",
    "    print('Ваш знак зодиака: Лев')\n",
    "elif user_day >= 22 and user_mounth == \"Август\" or user_day <= 23 and user_mounth == \"Сентябрь\":\n",
    "    print('Ваш знак зодиака: Дева')\n",
    "elif user_day >= 24 and user_mounth == \"Сентябрь\" or user_day <= 23 and user_mounth == \"Октябрь\":\n",
    "    print('Ваш знак зодиака: Весы')\n",
    "elif user_day >= 24 and user_mounth == \"Октябрь\" or user_day <= 22 and user_mounth == \"Ноябрь\":\n",
    "    print('Ваш знак зодиака: Скорпион')\n",
    "elif user_day >= 23 and user_mounth == \"Ноябрь\" or user_day <= 22 and user_mounth == \"Декабрь\":\n",
    "    print('Ваш знак зодиака: Стрелец')\n",
    "elif user_day >= 23 and user_mounth == \"Декабрь\" or user_day <= 20 and user_mounth == \"Январь\":\n",
    "    print('Ваш знак зодиака: Козерог')\n",
    "elif user_day >= 21 and user_mounth == \"Январь\" or user_day <= 19 and user_mounth == \"Февраль\":\n",
    "    print('Ваш знак зодиака: Водолей')\n",
    "elif user_day >= 20 and user_mounth == \"Февраль\" or user_day <= 20 and user_mounth == \"Март\":\n",
    "    print('Ваш знак зодиака: Рыбы')\n",
    "   "
   ]
  },
  {
   "cell_type": "code",
   "execution_count": 18,
   "metadata": {},
   "outputs": [
    {
     "name": "stdout",
     "output_type": "stream",
     "text": [
      "Упаковка для лыж\n"
     ]
    }
   ],
   "source": [
    "#Задание 4\n",
    "\n",
    "width = 10\n",
    "length = 205\n",
    "height = 5\n",
    "if width < 15 and length < 15 and height < 15:\n",
    "    print('Коробка №1')\n",
    "elif width > 15 and width < 50 or length > 15 and length < 50 or height > 15 and height < 50:\n",
    "    print ('Коробка №2')\n",
    "elif length > 200:\n",
    "    print('Упаковка для лыж')\n",
    "else:\n",
    "    print('Стандартная коробка №3')"
   ]
  },
  {
   "cell_type": "code",
   "execution_count": null,
   "metadata": {},
   "outputs": [],
   "source": []
  }
 ],
 "metadata": {
  "kernelspec": {
   "display_name": "Python 3",
   "language": "python",
   "name": "python3"
  },
  "language_info": {
   "codemirror_mode": {
    "name": "ipython",
    "version": 3
   },
   "file_extension": ".py",
   "mimetype": "text/x-python",
   "name": "python",
   "nbconvert_exporter": "python",
   "pygments_lexer": "ipython3",
   "version": "3.8.5"
  }
 },
 "nbformat": 4,
 "nbformat_minor": 4
}

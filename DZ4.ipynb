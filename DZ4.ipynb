{
 "cells": [
  {
   "cell_type": "code",
   "execution_count": 59,
   "metadata": {},
   "outputs": [
    {
     "name": "stdout",
     "output_type": "stream",
     "text": [
      "{98, 35, 15, 213, 54, 119}\n"
     ]
    }
   ],
   "source": [
    "#Задание 1\n",
    "\n",
    "'''Дана переменная, в которой хранится словарь, содержащий гео-метки для каждого пользователя \n",
    "(пример структуры данных приведен ниже). Вам необходимо написать программу, которая выведет на \n",
    "экран множество уникальных гео-меток всех пользователей.'''\n",
    "\n",
    "#Пример работы программы:\n",
    "\n",
    "ids = {'user1': [213, 213, 213, 15, 213],\n",
    "'user2': [54, 54, 119, 119, 119],\n",
    "'user3': [213, 98, 98, 35]}\n",
    "#Результат: {98, 35, 15, 213, 54, 119}\n",
    "\n",
    "number=[]\n",
    "for user, volue in ids.items():\n",
    "    number += volue\n",
    "print(set(number))"
   ]
  },
  {
   "cell_type": "code",
   "execution_count": 118,
   "metadata": {},
   "outputs": [
    {
     "name": "stdout",
     "output_type": "stream",
     "text": [
      "Поисковых запросовб содержащих 3 слов(а): 57.14%\n",
      "Поисковых запросовб содержащих 2 слов(а): 42.86%\n"
     ]
    }
   ],
   "source": [
    "#Задание 2\n",
    "\n",
    "'''Дана переменная, в которой хранится список поисковых запросов пользователя \n",
    "(пример структуры данных приведен ниже). Вам необходимо написать программу, \n",
    "которая выведет на экран распределение количества слов в запросах в требуемом виде.'''\n",
    "\n",
    "#Результат:\n",
    "#Поисковых запросов, содержащих 2 слов(а): 42.86%\n",
    "#Поисковых запросов, содержащих 3 слов(а): 57.14%\n",
    "\n",
    "queries = [\n",
    "'смотреть сериалы онлайн',\n",
    "'новости спорта',\n",
    "'афиша кино',\n",
    "'курс доллара',\n",
    "'сериалы этим летом',\n",
    "'курс по питону',\n",
    "'сериалы про спорт',\n",
    "]\n",
    "\n",
    "res_dict = {}\n",
    "for i in queries:\n",
    "    idx = len(i.split())\n",
    "    if idx in res_dict:\n",
    "        res_dict[idx] += 1\n",
    "    else:\n",
    "        res_dict[idx] = 1\n",
    "all_queries = len(queries)\n",
    "for k,v in res_dict.items():\n",
    "    print('Поисковых запросовб содержащих {cnt_word} слов(а): {pers:.2%}'.format(cnt_word=k, pers=v/all_queries))\n"
   ]
  },
  {
   "cell_type": "code",
   "execution_count": 9,
   "metadata": {},
   "outputs": [
    {
     "name": "stdout",
     "output_type": "stream",
     "text": [
      "{'vk': {'revenue': 103, 'cost': 98, 'ROI': 5.1}, 'yandex': {'revenue': 179, 'cost': 153, 'ROI': 16.99}, 'facebook': {'revenue': 103, 'cost': 110, 'ROI': -6.36}, 'adwords': {'revenue': 35, 'cost': 34, 'ROI': 2.94}, 'twitter': {'revenue': 11, 'cost': 24, 'ROI': -54.17}}\n"
     ]
    }
   ],
   "source": [
    "#Задание 3\n",
    "\n",
    "'''Дана переменная, в которой хранится информация о затратах и доходе рекламных кампаний \n",
    "по различным источникам. Необходимо дополнить исходную структуру показателем ROI, который \n",
    "рассчитаем по формуле: (revenue / cost - 1) * 100'''\n",
    "\n",
    "results = {\n",
    "'vk': {'revenue': 103, 'cost': 98},\n",
    "'yandex': {'revenue': 179, 'cost': 153},\n",
    "'facebook': {'revenue': 103, 'cost': 110},\n",
    "'adwords': {'revenue': 35, 'cost': 34},\n",
    "'twitter': {'revenue': 11, 'cost': 24},\n",
    "}\n",
    "\n",
    "\n",
    "for s, rev in results.items():\n",
    "    rev['ROI']=round((rev['revenue']/(rev['cost']) - 1)*100,2)\n",
    "print(results)"
   ]
  },
  {
   "cell_type": "code",
   "execution_count": 92,
   "metadata": {},
   "outputs": [
    {
     "name": "stdout",
     "output_type": "stream",
     "text": [
      "Максимальный объем продаж на рекламном канале: vk\n"
     ]
    }
   ],
   "source": [
    "#Задание 4\n",
    "\n",
    "'''Дана переменная, в которой хранится статистика рекламных каналов по объемам продаж \n",
    "(пример структуры данных приведен ниже). Напишите программу, которая возвращает название \n",
    "канала с максимальным объемом продаж.'''\n",
    "\n",
    "stats = {'facebook': 55, 'yandex': 115, 'vk': 120, 'google': 99, 'email': 42, 'ok': 98}\n",
    "max_v = max(stats.items(), key=lambda x: x[1]) \n",
    "print('Максимальный объем продаж на рекламном канале:', max_v[0]) "
   ]
  },
  {
   "cell_type": "code",
   "execution_count": null,
   "metadata": {},
   "outputs": [],
   "source": []
  }
 ],
 "metadata": {
  "kernelspec": {
   "display_name": "Python 3",
   "language": "python",
   "name": "python3"
  },
  "language_info": {
   "codemirror_mode": {
    "name": "ipython",
    "version": 3
   },
   "file_extension": ".py",
   "mimetype": "text/x-python",
   "name": "python",
   "nbconvert_exporter": "python",
   "pygments_lexer": "ipython3",
   "version": "3.8.5"
  }
 },
 "nbformat": 4,
 "nbformat_minor": 4
}
